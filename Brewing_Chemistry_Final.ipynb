{
  "cells": [
    {
      "cell_type": "markdown",
      "metadata": {
        "id": "7R4fwkPdN09R"
      },
      "source": [
        "# Brewing Chemistry\n",
        "\n",
        "This project was completed as the final Phase 5, Capstone assessment in the Flatiron School’s Data Science Bootcamp.\n",
        "\n",
        "Analysis by Erin Wasserman, July 2024"
      ]
    },
    {
      "cell_type": "markdown",
      "metadata": {
        "id": "0lX20sv-N1_T"
      },
      "source": [
        "# Kaggle Overview\n",
        "\n",
        "This dataset presents an extensive collection of data from a craft beer brewery, spanning from January 2020 to January 2024. It encapsulates a rich blend of brewing parameters, sales data, and quality assessments, providing a holistic view of the brewing process and its market implications."
      ]
    },
    {
      "cell_type": "markdown",
      "metadata": {
        "id": "Ouh3G4EuN2JI"
      },
      "source": [
        "# Business Problem\n",
        "\n",
        "In the beer market, demand plays a key role in future industry dynamics. The introduction of new ingredients and innovative flavors into the beer market, combined with a business model that values consumer loyalty, will increase appeal among generations.\n",
        "\n",
        "The main goal of any brewery is to focus on producing high quality beer. **Quality beer is a key success factor.** The most important thing a brewery can do is keep producing quality beer to stay competitive. As the variety of beers on the market increases, low-quality beers will be eliminated first.\n",
        "\n",
        "1. Determine best malt and hops types for quality beer.\n",
        "2. Assess malt-to-hops ratio impact on beer quality.\n",
        "3. Evaluate ML accuracy in predicting beer characteristics.\n",
        "4. Visualize beer styles based on quality ratings."
      ]
    },
    {
      "cell_type": "markdown",
      "metadata": {
        "id": "Zgt8aePMN2Rl"
      },
      "source": [
        "# Data Understanding\n",
        "\n",
        "\n",
        "**Dataset Description**\n",
        "\n",
        "[Kaggle Dataset](https://www.kaggle.com/datasets/ankurnapa/brewery-operations-and-market-analysis-dataset/data) <br>\n",
        "\n",
        "<u>Data Format and Structure:</u><br>\n",
        "-The dataset is structured in a tabular format, provided in a CSV file for easy integration with various data analysis tools.<br>\n",
        "-It comprises over 10 million records, each representing a unique batch with a comprehensive set of features.\n",
        "\n",
        "<u>Intended Audience:</u><br>\n",
        "This dataset is invaluable for data scientists, brewing process engineers, market analysts, supply chain experts, and quality control professionals in the brewing industry. It is also highly relevant for academic research in food technology, fermentation science, and business analytics.\n",
        "\n",
        "<u>Disclaimer:</u><br>\n",
        "-The data is synthetic and intended for educational, analytical, and simulation purposes.<br>\n",
        "-Users are advised to apply appropriate data processing and analysis techniques for meaningful insights.<br>\n",
        "-This comprehensive dataset serves as a rich resource for exploring the intricacies of brewing science, market dynamics, and operational efficiency in the craft beer industry.\n",
        "\n",
        "**Highlighted Data Features**\n",
        "\n",
        "<u>Brewing Parameters:</u> Includes crucial brewing factors such as fermentation time, temperature, pH level, gravity, and ingredient ratios. These parameters are pivotal in understanding the brewing process and its impact on the final product.\n",
        "\n",
        "<u>Beer Styles:</u> The dataset categorizes beers into various styles like IPA, Stout, Lager, etc.\n",
        "\n",
        "<u>Quality Scores:</u> Each batch is rated for its quality on a scale, offering insights into the success and consistency of different brewing approaches.\n",
        "\n",
        "<u>Application:</u>\n",
        "Brewing Process Optimization: Ideal for analysis aiming to correlate brewing techniques with beer quality, facilitating the optimization of brewing conditions for superior product quality."
      ]
    },
    {
      "cell_type": "markdown",
      "metadata": {
        "id": "YtEshorxN2dK"
      },
      "source": [
        "# Import Libraries, Packages, and Environments"
      ]
    },
    {
      "cell_type": "code",
      "execution_count": 1,
      "metadata": {
        "id": "cVuSX8ZmsTS8"
      },
      "outputs": [],
      "source": [
        "%%capture\n",
        "\n",
        "import time\n",
        "# Start the timer\n",
        "start_time = time.time()\n",
        "\n",
        "#Install Packages\n",
        "!apt-get install openjdk-8-jdk-headless -qq > /dev/null\n",
        "!pip install pyspark==3.0.1 #Big data processing\n",
        "!pip install tensorflow==2.8.0 #2.5.0 #machine learning\n",
        "!pip install --upgrade keras #neural net/deep learning modeling\n",
        "!pip install elephas==0.4.3 #intergates TensorFlow/Keras with Spark\n",
        "!pip install chempy #chemistry related calculations\n",
        "!pip install xgboost #machine learning for large datasets\n",
        "!pip install numba #to speed up computations on heavy metrics\n",
        "\n",
        "#Import libraries for system operations and environment management\n",
        "import os\n",
        "os.environ['TF_CPP_MIN_LOG_LEVEL'] = '2'  # Suppress TensorFlow warnings\n",
        "\n",
        "import sys\n",
        "os.environ[\"JAVA_HOME\"] = \"/usr/lib/jvm/java-8-openjdk-amd64\"\n",
        "\n",
        "# To retrieve info on system usage\n",
        "import psutil\n",
        "\n",
        "import warnings\n",
        "# Suppress only specific warnings\n",
        "warnings.filterwarnings(\"ignore\", category=UserWarning)  # Suppress UserWarnings\n",
        "warnings.filterwarnings(\"ignore\", category=DeprecationWarning)  # Suppress DeprecationWarnings\n",
        "\n",
        "# Stop the timer\n",
        "end_time = time.time()\n",
        "\n",
        "# Calculate the elapsed time\n",
        "elapsed_time = end_time - start_time\n",
        "\n",
        "# Print the elapsed time\n",
        "print(f\"Data transformation execution time: {elapsed_time:.2f} seconds\")"
      ]
    },
    {
      "cell_type": "code",
      "execution_count": 2,
      "metadata": {
        "colab": {
          "base_uri": "https://localhost:8080/"
        },
        "id": "djsg7vWCbaTD",
        "outputId": "16c2c185-2a1e-428d-8e34-0df85b542839"
      },
      "outputs": [
        {
          "output_type": "stream",
          "name": "stdout",
          "text": [
            "TensorFlow version: 2.8.0\n",
            "Keras version: 2.8.0\n",
            "Python version:\n",
            "3.10.12 (main, Jul 29 2024, 16:56:48) [GCC 11.4.0]\n",
            "\n"
          ]
        }
      ],
      "source": [
        "#Verify version for dependencies\n",
        "import tensorflow as tf\n",
        "import keras\n",
        "print(\"TensorFlow version:\", tf.__version__)\n",
        "print(\"Keras version:\", keras.__version__)\n",
        "print(\"Python version:\")\n",
        "print(sys.version)\n",
        "print()"
      ]
    },
    {
      "cell_type": "code",
      "execution_count": 3,
      "metadata": {
        "colab": {
          "base_uri": "https://localhost:8080/"
        },
        "id": "Di_IsEMkAqtE",
        "outputId": "9795da9a-6264-4a9e-b059-6bddecdcf0bb"
      },
      "outputs": [
        {
          "output_type": "stream",
          "name": "stdout",
          "text": [
            "WARNING\n",
            "Data transformation execution time: 4.71 seconds\n"
          ]
        }
      ],
      "source": [
        "# Start the timer\n",
        "start_time = time.time()\n",
        "\n",
        "# Import the necessary third party packages\n",
        "from pyspark import SparkContext, SparkConf\n",
        "from pyspark.sql import SparkSession\n",
        "from pyspark.ml.feature import StringIndexer, OneHotEncoder, VectorAssembler\n",
        "from pyspark.ml import Pipeline\n",
        "from pyspark.ml.regression import RandomForestRegressor\n",
        "from pyspark.ml.evaluation import RegressionEvaluator\n",
        "from pyspark.ml.tuning import CrossValidator, ParamGridBuilder\n",
        "from pyspark.ml.regression import GBTRegressor\n",
        "from pyspark.sql.types import IntegerType, FloatType, DoubleType\n",
        "from pyspark.sql import functions as F\n",
        "from pyspark.sql.functions import col, when, count, split, lit, udf\n",
        "from pyspark.ml.stat import Correlation\n",
        "from pyspark.ml.feature import PCA, StandardScaler\n",
        "from pyspark.ml.clustering import KMeans, KMeansModel\n",
        "from pyspark.ml.evaluation import ClusteringEvaluator\n",
        "from pyspark.sql import Window\n",
        "from pyspark.sql.functions import expr, broadcast\n",
        "\n",
        "import pandas as pd\n",
        "import numpy as np\n",
        "import plotly.express as px\n",
        "import seaborn as sns\n",
        "import matplotlib.pyplot as plt\n",
        "import matplotlib.colors as mcolors\n",
        "from matplotlib.colors import ListedColormap\n",
        "from matplotlib.colors import LinearSegmentedColormap\n",
        "from google.colab import files\n",
        "from sklearn.tree import DecisionTreeClassifier\n",
        "from sklearn.model_selection import *\n",
        "from sklearn.model_selection import train_test_split\n",
        "from sklearn.metrics import *\n",
        "from sklearn.model_selection import GridSearchCV\n",
        "from sklearn.metrics import confusion_matrix\n",
        "from sklearn.metrics import accuracy_score\n",
        "from sklearn.metrics import roc_curve, roc_auc_score\n",
        "from sklearn.ensemble import RandomForestClassifier\n",
        "from sklearn.svm import SVC\n",
        "from sklearn.model_selection import cross_val_score\n",
        "from sklearn.metrics import classification_report\n",
        "from sklearn.inspection import permutation_importance\n",
        "from sklearn.metrics import ConfusionMatrixDisplay\n",
        "from sklearn.tree import DecisionTreeRegressor\n",
        "from sklearn.metrics import mean_squared_error, r2_score\n",
        "from sklearn.tree import plot_tree\n",
        "from sklearn.manifold import TSNE\n",
        "from sklearn.metrics import silhouette_score\n",
        "from sklearn.ensemble import GradientBoostingRegressor\n",
        "from sklearn.model_selection import train_test_split\n",
        "from sklearn.manifold import TSNE\n",
        "import xgboost as xgb\n",
        "from xgboost import DMatrix\n",
        "from numba import jit\n",
        "import zipfile\n",
        "import glob\n",
        "import joblib\n",
        "\n",
        "from chempy.kinetics.ode import get_odesys\n",
        "from chempy.kinetics.rates import MassAction\n",
        "from chempy import Equilibrium, Substance\n",
        "from scipy.optimize import fsolve\n",
        "from collections import defaultdict\n",
        "from chempy.chemistry import Species\n",
        "from chempy.equilibria import EqSystem\n",
        "from math import log10\n",
        "\n",
        "# TensorFlow and Keras for deep learning (for future work)\n",
        "import tensorflow as tf\n",
        "from tensorflow.keras import models\n",
        "from tensorflow.keras.preprocessing.sequence import pad_sequences\n",
        "from tensorflow.keras.utils import to_categorical\n",
        "from tensorflow.keras.optimizers import Adam, RMSprop, SGD, serialize\n",
        "from tensorflow.keras.utils import *\n",
        "from tensorflow.python.keras.utils import *\n",
        "\n",
        "from tensorflow.keras.models import Sequential\n",
        "from tensorflow.keras.layers import Dense, Dropout, Activation\n",
        "from elephas.utils.rdd_utils import to_simple_rdd\n",
        "from elephas.spark_model import SparkModel\n",
        "from elephas.ml_model import ElephasEstimator\n",
        "from tensorflow.keras import optimizers\n",
        "from tensorflow.keras.optimizers import serialize\n",
        "\n",
        "# Set seaborn style for better visualizations\n",
        "sns.set(style=\"whitegrid\")\n",
        "\n",
        "# Define your custom color palette using hex codes\n",
        "custom_colors = [\"#f7e1a1\", \"#e9ad3f\", \"#d98416\", \"#b74d00\", \"#9f3400\", \"#811f00\", \"#5e0e00\", \"#410500\", \"#2f0200\", \"#0d0000\"]\n",
        "\n",
        "# Create a custom colormap based on your custom color palette\n",
        "custom_cmap = mcolors.ListedColormap(custom_colors)\n",
        "\n",
        "# Set this custom palette globally for Seaborn\n",
        "sns.set_palette(custom_colors)\n",
        "\n",
        "# Set the same custom palette for Matplotlib\n",
        "plt.rcParams['axes.prop_cycle'] = plt.cycler(color=custom_colors)\n",
        "\n",
        "# Stop the timer\n",
        "end_time = time.time()\n",
        "\n",
        "# Calculate the elapsed time\n",
        "elapsed_time = end_time - start_time\n",
        "\n",
        "# Print the elapsed time\n",
        "print(f\"Data transformation execution time: {elapsed_time:.2f} seconds\")"
      ]
    },
    {
      "cell_type": "markdown",
      "metadata": {
        "id": "FnteeV_JTWDE"
      },
      "source": [
        "# Notebook Architecture"
      ]
    },
    {
      "cell_type": "markdown",
      "metadata": {
        "id": "XCH8aoRCf81e"
      },
      "source": [
        "The following code blocks establish the general setup architecture for the notebook. The Spark session can be initialized according to the computational resources available. Also, pickle functions are set to ease the computational resources by saving the state of an object to a disk, so that it can be reused later without having to recompute or recreate it.\n"
      ]
    },
    {
      "cell_type": "code",
      "execution_count": 4,
      "metadata": {
        "colab": {
          "base_uri": "https://localhost:8080/"
        },
        "id": "9FwoQ4bRL9G0",
        "outputId": "4a847564-c1af-494b-dd6d-7d357df74159"
      },
      "outputs": [
        {
          "output_type": "stream",
          "name": "stderr",
          "text": [
            "/usr/lib/python3.10/subprocess.py:1796: RuntimeWarning: os.fork() was called. os.fork() is incompatible with multithreaded code, and JAX is multithreaded, so this will likely lead to a deadlock.\n",
            "  self.pid = _posixsubprocess.fork_exec(\n"
          ]
        },
        {
          "output_type": "stream",
          "name": "stdout",
          "text": [
            "Total number of cores available: 1\n",
            "[('spark.executor.instances', '4'), ('spark.app.name', 'BeerClustering'), ('spark.executor.id', 'driver'), ('spark.sql.shuffle.partitions', '400'), ('spark.driver.memory', '16g'), ('spark.executor.cores', '4'), ('spark.app.id', 'local-1723480296616'), ('spark.driver.port', '44767'), ('spark.rdd.compress', 'True'), ('spark.serializer.objectStreamReset', '100'), ('spark.master', 'local[*]'), ('spark.executor.memory', '8g'), ('spark.submit.pyFiles', ''), ('spark.submit.deployMode', 'client'), ('spark.ui.showConsoleProgress', 'true'), ('spark.driver.host', '8143a2d06ac7')]\n",
            "Data transformation execution time: 5.12 seconds\n"
          ]
        }
      ],
      "source": [
        "# Start the timer\n",
        "start_time = time.time()\n",
        "\n",
        "# Initialize the SparkConf object\n",
        "conf = SparkConf()\n",
        "\n",
        "# Set all the configurations you need\n",
        "conf.setAppName('Elephas_App') \\\n",
        "    .setMaster('local[8]') \\\n",
        "    .set(\"spark.driver.maxResultSize\", \"18g\")\n",
        "\n",
        "#comment or uncomment the code block that suits your computing architecture\n",
        "\n",
        "# Initialize Spark session (default)\n",
        "#spark = SparkSession.builder \\\n",
        " #   .appName(\"Beer Quality Analysis\") \\\n",
        " #   .config(\"spark.sql.shuffle.partitions\", \"50\") \\\n",
        " #   .config(\"spark.executor.memory\", \"4g\") \\\n",
        " #   .config(\"spark.executor.cores\", \"4\") \\\n",
        " #   .getOrCreate()\n",
        "\n",
        "# Initialize Spark session (optimized CPU)\n",
        "#spark = SparkSession.builder \\\n",
        " #   .appName(\"Beer Quality Analysis\") \\\n",
        " #   .config(\"spark.sql.shuffle.partitions\", \"50\") \\\n",
        " #   .config(\"spark.driver.memory\", \"8g\") \\\n",
        " #   .config(\"spark.executor.memory\", \"4g\") \\\n",
        " #   .config(\"spark.executor.cores\", \"2\") \\\n",
        " #   .config(\"spark.driver.maxResultSize\", \"4g\") \\\n",
        " #   .getOrCreate()\n",
        "\n",
        "# Initialize the Spark session (optimized T4_GPU)\n",
        "#spark = SparkSession.builder \\\n",
        " #   .appName(\"Beer Quality Analysis\") \\\n",
        " #   .config(\"spark.sql.shuffle.partitions\", \"200\") \\\n",
        " #   .config(\"spark.driver.memory\", \"16g\") \\\n",
        " #   .config(\"spark.executor.memory\", \"8g\") \\\n",
        " #   .config(\"spark.executor.cores\", \"4\") \\\n",
        " #   .config(\"spark.driver.maxResultSize\", \"8g\") \\\n",
        " #   .config(\"spark.executor.instances\", \"1\") \\\n",
        " #   .getOrCreate()\n",
        "\n",
        "    # Start Spark session with optimized settings for T4 GPU\n",
        "spark = SparkSession.builder \\\n",
        "    .appName(\"BeerClustering\") \\\n",
        "    .config(\"spark.sql.shuffle.partitions\", \"400\") \\\n",
        "    .config(\"spark.driver.memory\", \"16g\") \\\n",
        "    .config(\"spark.executor.memory\", \"8g\") \\\n",
        "    .config(\"spark.executor.cores\", \"4\") \\\n",
        "    .config(\"spark.executor.instances\", \"4\") \\\n",
        "    .getOrCreate()\n",
        "\n",
        "# Determine the number of cores available\n",
        "total_cores = spark._jsc.sc().getExecutorMemoryStatus().keySet().size()\n",
        "print(f\"Total number of cores available: {total_cores}\")\n",
        "\n",
        "# Set the parallelism to a reasonable value, e.g., half or all of the available cores\n",
        "parallelism = min(total_cores, 4)  # Adjust this based on project specific needs and testing\n",
        "\n",
        "# Print Spark configuration settings\n",
        "spark.sparkContext.setLogLevel(\"DEBUG\")\n",
        "spark.sparkContext.setCheckpointDir(\"/tmp/spark-checkpoints\")\n",
        "print(spark.sparkContext.getConf().getAll())\n",
        "\n",
        "# Stop the timer\n",
        "end_time = time.time()\n",
        "\n",
        "# Calculate the elapsed time\n",
        "elapsed_time = end_time - start_time\n",
        "\n",
        "# Print the elapsed time\n",
        "print(f\"Data transformation execution time: {elapsed_time:.2f} seconds\")"
      ]
    },
    {
      "cell_type": "markdown",
      "metadata": {
        "id": "agoZSpQbeelY"
      },
      "source": [
        "<span><div style=\"display: https://drive.google.com/uc?export=view&id=1ailmmrZcMxj6yXZv-tkmiGOHgoZ5Iay3inline-block; vertical-align: middle;\">\n",
        "<img src=\"https://drive.google.com/uc?export=view&id=1ailmmrZcMxj6yXZv-tkmiGOHgoZ5Iay3\" width=\"40\"/>\n",
        "<font color='#811f00' size='4'>Explanation of Settings:\n",
        "</font>\n",
        "<br>\n",
        "<font color='#811f00'>\n",
        "**spark.sql.shuffle.partitions:** This setting determines the number of partitions to use when shuffling data for operations such as joins or aggregations. A value of 50 is a recommended starting point for balancing performance and resource utilization.<br>\n",
        "</br>\n",
        "**spark.driver.memory:** Allocates 8 GB of memory for the Spark driver, which is the main control node of your Spark application. This setting ensures that the driver has sufficient memory to manage the overall execution of the Spark jobs.<br>\n",
        "</br>\n",
        "**spark.executor.memory:** Allocates 4 GB of memory for each Spark executor. Executors are the distributed agents that execute the tasks assigned by the driver. This setting ensures that each executor has adequate memory to perform its tasks efficiently.<br>\n",
        "</br>\n",
        "**spark.executor.cores:** Allocates 2 CPU cores for each executor. This configuration helps in parallelizing tasks effectively, allowing the executors to handle multiple tasks concurrently.\n",
        "<br>\n",
        "</br>\n",
        "**spark.driver.maxResultSize:** Sets a limit of 4 GB on the maximum size of results that can be collected to the driver. This prevents out-of-memory errors when collecting large results, ensuring the stability of the Spark application.</font> </div></span>"
      ]
    },
    {
      "cell_type": "markdown",
      "metadata": {
        "id": "1bxN-cwKe8bY"
      },
      "source": [
        "<span><div style=\"display: https://drive.google.com/uc?export=view&id=1ailmmrZcMxj6yXZv-tkmiGOHgoZ5Iay3inline-block; vertical-align: middle;\">\n",
        "<img src=\"https://drive.google.com/uc?export=view&id=1ailmmrZcMxj6yXZv-tkmiGOHgoZ5Iay3\" width=\"40\"/><font color='#811f00'><br>\n",
        "The following code block defines two functions to save and load models using spark. Pickle and Jiblib were considered and not needed for this project given the other resource constraints. The save_model function saves the model to a file, and the load_model function loads the model from a file. This helps save time by avoiding the need to recreate the model every time.</i></font> </div></span>"
      ]
    },
    {
      "cell_type": "code",
      "execution_count": 5,
      "metadata": {
        "id": "aknGg4TRf44G"
      },
      "outputs": [],
      "source": [
        "# Start the timer\n",
        "start_time = time.time()\n",
        "\n",
        "# Directory to save models and checkpoints\n",
        "model_dir = \"/content/Brewing_Chemistry/Models/\"\n",
        "os.makedirs(model_dir, exist_ok=True)\n",
        "\n",
        "def save_spark_model(model, filename):\n",
        "    \"\"\"\n",
        "    Save a Spark MLlib model.\n",
        "\n",
        "    Parameters:\n",
        "    model : pyspark.ml.Model\n",
        "        The Spark MLlib model to be saved.\n",
        "    filename : str\n",
        "        The name of the directory where the model will be saved.\n",
        "\n",
        "    Returns:\n",
        "    None\n",
        "    \"\"\"\n",
        "    filepath = os.path.join(model_dir, filename)\n",
        "    model.save(filepath)\n",
        "    print(f\"Model saved to {filepath}\")\n",
        "\n",
        "def load_spark_model(model_class, filename):\n",
        "    \"\"\"\n",
        "    Load a Spark MLlib model.\n",
        "\n",
        "    Parameters:\n",
        "    model_class : type\n",
        "        The class of the model to be loaded (e.g., RandomForestRegressorModel).\n",
        "    filename : str\n",
        "        The name of the directory from which the model will be loaded.\n",
        "\n",
        "    Returns:\n",
        "    pyspark.ml.Model\n",
        "        The loaded Spark MLlib model.\n",
        "    \"\"\"\n",
        "    filepath = os.path.join(model_dir, filename)\n",
        "    model = model_class.load(filepath)\n",
        "    print(f\"Model loaded from {filepath}\")\n",
        "    return model\n",
        "\n",
        "def save_spark_dataframe(df, filename):\n",
        "    \"\"\"\n",
        "    Save a Spark DataFrame as a Parquet file.\n",
        "\n",
        "    Parameters:\n",
        "    df : pyspark.sql.DataFrame\n",
        "        The Spark DataFrame to be saved.\n",
        "    filename : str\n",
        "        The name of the file where the DataFrame will be saved.\n",
        "\n",
        "    Returns:\n",
        "    None\n",
        "    \"\"\"\n",
        "    filepath = os.path.join(model_dir, filename)\n",
        "    df.write.mode(\"overwrite\").parquet(filepath)\n",
        "    print(f\"DataFrame saved to {filepath}\")\n",
        "\n",
        "def load_spark_dataframe(filename):\n",
        "    \"\"\"\n",
        "    Load a Spark DataFrame from a Parquet file.\n",
        "\n",
        "    Parameters:\n",
        "    filename : str\n",
        "        The name of the file from which the DataFrame will be loaded.\n",
        "\n",
        "    Returns:\n",
        "    pyspark.sql.DataFrame\n",
        "        The loaded Spark DataFrame.\n",
        "    \"\"\"\n",
        "    filepath = os.path.join(model_dir, filename)\n",
        "    df = spark.read.parquet(filepath)\n",
        "    print(f\"DataFrame loaded from {filepath}\")\n",
        "    return df\n",
        "\n",
        "def checkpoint_dataframe(df, checkpoint_dir=\"/tmp/spark-checkpoints\"):\n",
        "    \"\"\"\n",
        "    Checkpoint a Spark DataFrame.\n",
        "\n",
        "    Parameters:\n",
        "    df : pyspark.sql.DataFrame\n",
        "        The Spark DataFrame to be checkpointed.\n",
        "    checkpoint_dir : str\n",
        "        The directory where the checkpoint will be saved.\n",
        "\n",
        "    Returns:\n",
        "    pyspark.sql.DataFrame\n",
        "        The checkpointed DataFrame.\n",
        "    \"\"\"\n",
        "    spark.sparkContext.setCheckpointDir(checkpoint_dir)\n",
        "    df_checkpointed = df.checkpoint()\n",
        "    print(f\"DataFrame checkpointed to {checkpoint_dir}\")\n",
        "    return df_checkpointed"
      ]
    },
    {
      "cell_type": "markdown",
      "metadata": {
        "id": "5_dUWIsgV4Si"
      },
      "source": [
        "# Import Data\n",
        "\n",
        "This code block is forcused on importing the data using Spark."
      ]
    },
    {
      "cell_type": "code",
      "execution_count": 14,
      "metadata": {
        "colab": {
          "base_uri": "https://localhost:8080/"
        },
        "id": "mF9RFul0AsTP",
        "outputId": "099a0eb6-0156-4547-d9d1-91fbf2c4b702"
      },
      "outputs": [
        {
          "output_type": "stream",
          "name": "stdout",
          "text": [
            "Dataset URL: https://www.kaggle.com/datasets/ankurnapa/brewery-operations-and-market-analysis-dataset\n",
            "License(s): ODbL-1.0\n",
            "Downloading brewery-operations-and-market-analysis-dataset.zip to /content\n",
            " 99% 1.05G/1.06G [00:05<00:00, 212MB/s]\n",
            "100% 1.06G/1.06G [00:05<00:00, 209MB/s]\n",
            "Archive:  brewery_dataset.zip\n",
            "  inflating: /content/sample_data/brewery_data_complete_extended.csv  \n",
            "Dataset shape: Rows - 10000000  Columns - 20\n",
            "Schema of the dataset:\n",
            "root\n",
            " |-- Batch_ID: integer (nullable = true)\n",
            " |-- Brew_Date: string (nullable = true)\n",
            " |-- Beer_Style: string (nullable = true)\n",
            " |-- SKU: string (nullable = true)\n",
            " |-- Location: string (nullable = true)\n",
            " |-- Fermentation_Time: integer (nullable = true)\n",
            " |-- Temperature: double (nullable = true)\n",
            " |-- pH_Level: double (nullable = true)\n",
            " |-- Gravity: double (nullable = true)\n",
            " |-- Alcohol_Content: double (nullable = true)\n",
            " |-- Bitterness: integer (nullable = true)\n",
            " |-- Color: integer (nullable = true)\n",
            " |-- Ingredient_Ratio: string (nullable = true)\n",
            " |-- Volume_Produced: integer (nullable = true)\n",
            " |-- Total_Sales: double (nullable = true)\n",
            " |-- Quality_Score: double (nullable = true)\n",
            " |-- Brewhouse_Efficiency: double (nullable = true)\n",
            " |-- Loss_During_Brewing: double (nullable = true)\n",
            " |-- Loss_During_Fermentation: double (nullable = true)\n",
            " |-- Loss_During_Bottling_Kegging: double (nullable = true)\n",
            "\n",
            "First few rows of the dataset:\n",
            "+--------+-------------------+----------+----+------------+-----------------+------------------+------------------+------------------+-----------------+----------+-----+----------------+---------------+------------------+-----------------+--------------------+-------------------+------------------------+----------------------------+\n",
            "|Batch_ID|          Brew_Date|Beer_Style| SKU|    Location|Fermentation_Time|       Temperature|          pH_Level|           Gravity|  Alcohol_Content|Bitterness|Color|Ingredient_Ratio|Volume_Produced|       Total_Sales|    Quality_Score|Brewhouse_Efficiency|Loss_During_Brewing|Loss_During_Fermentation|Loss_During_Bottling_Kegging|\n",
            "+--------+-------------------+----------+----+------------+-----------------+------------------+------------------+------------------+-----------------+----------+-----+----------------+---------------+------------------+-----------------+--------------------+-------------------+------------------------+----------------------------+\n",
            "| 7870796|2020-01-01 00:00:19|Wheat Beer|Kegs|  Whitefield|               16|24.204250857069873|5.2898454476095615|1.0395041267301979|5.370842159553436|        20|    5|     1:0.32:0.16|           4666|2664.7593448382822| 8.57701633109399|   89.19588216376087| 4.1049876591878345|      3.2354851724654683|           4.663204448186049|\n",
            "| 9810411|2020-01-01 00:00:31|      Sour|Kegs|  Whitefield|               13|18.086762947259544| 5.275643382756193|1.0598189516987164|5.096053082797625|        36|   14|     1:0.39:0.24|            832| 9758.801062471319|7.420540752553908|    72.4809153900275| 2.6765280953921122|      4.2461292104108574|            2.04435836917023|\n",
            "| 2623342|2020-01-01 00:00:40|Wheat Beer|Kegs| Malleswaram|               12|15.539332669116469|4.7780156232459765|1.0374757095487201|4.824737120959184|        30|   10|     1:0.35:0.16|           2115|11721.087016274963|8.451364886803127|   86.32214396020584|  3.299893625514981|       3.109440467362847|          3.0338798378762806|\n",
            "| 8114651|2020-01-01 00:01:37|       Ale|Kegs| Rajajinagar|               17| 16.41848910394318| 5.345260585546188|1.0524314251694946|5.509243080797997|        48|   18|     1:0.35:0.15|           3173|12050.177463190277|9.671859404043175|   83.09494037181545|  2.136055116262562|       4.634254174098425|          1.4898890677148424|\n",
            "| 4579587|2020-01-01 00:01:43|     Stout|Cans|Marathahalli|               18|19.144907654338517|  4.86185374113861|1.0542961149482333|5.133624684263243|        57|   13|     1:0.46:0.11|           4449|5515.0774647529615|7.895333676172065|   88.62583302052388|  4.491723843594972|      2.1833886016455497|          2.9906302188791485|\n",
            "+--------+-------------------+----------+----+------------+-----------------+------------------+------------------+------------------+-----------------+----------+-----+----------------+---------------+------------------+-----------------+--------------------+-------------------+------------------------+----------------------------+\n",
            "only showing top 5 rows\n",
            "\n",
            "Data transformation execution time: 69.72 seconds\n"
          ]
        }
      ],
      "source": [
        "# Start the timer\n",
        "start_time = time.time()\n",
        "\n",
        "#get data from Kaggle website\n",
        "#!kaggle datasets download -d ankurnapa/brewery-operations-and-market-analysis-dataset\n",
        "\n",
        "# Unzip the file\n",
        "#!unzip /content/sample_data/brewery_dataset.zip -d /content/sample_data/\n",
        "\n",
        "# Get data from Kaggle website\n",
        "!kaggle datasets download -d ankurnapa/brewery-operations-and-market-analysis-dataset\n",
        "\n",
        "# Rename the downloaded file to 'brewery_dataset.zip'\n",
        "!mv brewery-operations-and-market-analysis-dataset.zip brewery_dataset.zip\n",
        "\n",
        "# Unzip the file into /content/sample_data/\n",
        "!unzip brewery_dataset.zip -d /content/sample_data/\n",
        "\n",
        "# Rename the extracted CSV file to 'brewery_dataset.csv'\n",
        "!mv /content/sample_data/brewery_data_complete_extended.csv /content/sample_data/brewery_dataset.csv\n",
        "\n",
        "# Find the path of the unzipped file (assuming there's only one CSV file)\n",
        "csv_file_path = glob.glob('/content/sample_data/**/*.csv', recursive=True)[0]\n",
        "\n",
        "# Load the dataset using Spark\n",
        "beer_sample_set = spark.read.csv(csv_file_path, header=True, inferSchema=True)\n",
        "\n",
        "# Preview the dataset shape and first few rows\n",
        "print(\"Dataset shape: Rows -\", beer_sample_set.count(), \" Columns -\", len(beer_sample_set.columns))\n",
        "print(\"Schema of the dataset:\")\n",
        "beer_sample_set.printSchema()\n",
        "\n",
        "print(\"First few rows of the dataset:\")\n",
        "beer_sample_set.show(5)  # Show the first 5 rows\n",
        "\n",
        " # Stop the timer\n",
        "end_time = time.time()\n",
        "\n",
        "# Calculate the elapsed time\n",
        "elapsed_time = end_time - start_time\n",
        "\n",
        "# Print the elapsed time\n",
        "print(f\"Data transformation execution time: {elapsed_time:.2f} seconds\")"
      ]
    },
    {
      "cell_type": "markdown",
      "metadata": {
        "id": "TDbzfKESTzjC"
      },
      "source": [
        "# Preprocessing\n",
        "\n",
        "Categorical, numeric, and mixed numeric values to be processed accordingly."
      ]
    },
    {
      "cell_type": "code",
      "execution_count": 7,
      "metadata": {
        "id": "zVAmKia08yMn",
        "colab": {
          "base_uri": "https://localhost:8080/"
        },
        "outputId": "18e73b9f-c98b-48a2-81be-f5dfa4700152"
      },
      "outputs": [
        {
          "output_type": "stream",
          "name": "stdout",
          "text": [
            "Data transformation execution time: 0.00 seconds\n"
          ]
        }
      ],
      "source": [
        "# Start the timer\n",
        "start_time = time.time()\n",
        "\n",
        "# Create a copy of the DataFrame to not alter original\n",
        "beer_copy = beer_sample_set\n",
        "\n",
        " # Stop the timer\n",
        "end_time = time.time()\n",
        "\n",
        "# Calculate the elapsed time\n",
        "elapsed_time = end_time - start_time\n",
        "\n",
        "# Print the elapsed time\n",
        "print(f\"Data transformation execution time: {elapsed_time:.2f} seconds\")\n"
      ]
    },
    {
      "cell_type": "code",
      "execution_count": 8,
      "metadata": {
        "id": "jIcF6InD80GG",
        "colab": {
          "base_uri": "https://localhost:8080/"
        },
        "outputId": "4166b168-a213-4fda-b1da-04088c30eb6f"
      },
      "outputs": [
        {
          "output_type": "stream",
          "name": "stdout",
          "text": [
            "+-------+-------------------+------------------+------------------+-----------------+------------------+------------------+------------------+------------------+------------------+\n",
            "|summary|          longitude|          latitude|housing_median_age|      total_rooms|    total_bedrooms|        population|        households|     median_income|median_house_value|\n",
            "+-------+-------------------+------------------+------------------+-----------------+------------------+------------------+------------------+------------------+------------------+\n",
            "|  count|               3000|              3000|              3000|             3000|              3000|              3000|              3000|              3000|              3000|\n",
            "|   mean|-119.58920000000029| 35.63538999999999|28.845333333333333|2599.578666666667| 529.9506666666666|1402.7986666666666|           489.912| 3.807271799999998|        205846.275|\n",
            "| stddev| 1.9949362939550166|2.1296695233438334|12.555395554955757|2155.593331625582|415.65436813632306|1030.5430124122424|365.42270980552615|1.8545117296914775|113119.68746964622|\n",
            "|    min|            -124.18|             32.56|               1.0|              6.0|               2.0|               5.0|               2.0|            0.4999|           22500.0|\n",
            "|    max|            -114.49|             41.92|              52.0|          30450.0|            5419.0|           11935.0|            4930.0|           15.0001|          500001.0|\n",
            "+-------+-------------------+------------------+------------------+-----------------+------------------+------------------+------------------+------------------+------------------+\n",
            "\n",
            "Data transformation execution time: 1.38 seconds\n"
          ]
        }
      ],
      "source": [
        "# Start the timer\n",
        "start_time = time.time()\n",
        "\n",
        "# Compute summary statistics\n",
        "describe_df = beer_copy.describe()\n",
        "\n",
        "# Show the summary statistics\n",
        "describe_df.show()\n",
        "\n",
        " # Stop the timer\n",
        "end_time = time.time()\n",
        "\n",
        "# Calculate the elapsed time\n",
        "elapsed_time = end_time - start_time\n",
        "\n",
        "# Print the elapsed time\n",
        "print(f\"Data transformation execution time: {elapsed_time:.2f} seconds\")"
      ]
    },
    {
      "cell_type": "markdown",
      "metadata": {
        "id": "WXp9wHsvNMcS"
      },
      "source": [
        "<span><div style=\"display: https://drive.google.com/uc?export=view&id=1ailmmrZcMxj6yXZv-tkmiGOHgoZ5Iay3inline-block; vertical-align: middle;\">\n",
        "<img src=\"https://drive.google.com/uc?export=view&id=1ailmmrZcMxj6yXZv-tkmiGOHgoZ5Iay3\" width=\"40\"/><font color='#811f00'>\n",
        "<br>\n",
        "Focusing on the column subset related to the chemical properties of beer, the pH seems consistently below 7. The average temperatue slightly below room standard room temperature. The bitterness has a large standard deviation relative to the mean.\n",
        "<br>\n",
        "</br>\n",
        "The standard metric that will be used for this analysis of quality score seems to have a small standard deviation and the scores all seem  to be high in a range of 6-9.99 with an average score of 7.99.</font> </div></span>"
      ]
    },
    {
      "cell_type": "code",
      "execution_count": 9,
      "metadata": {
        "id": "oRdOUBf2MdIE",
        "colab": {
          "base_uri": "https://localhost:8080/",
          "height": 521
        },
        "outputId": "d4a8e75e-eb00-4b46-b09d-f3d726cc3b1c"
      },
      "outputs": [
        {
          "output_type": "display_data",
          "data": {
            "text/plain": [
              "<IPython.core.display.Javascript object>"
            ],
            "application/javascript": [
              "\n",
              "    async function download(id, filename, size) {\n",
              "      if (!google.colab.kernel.accessAllowed) {\n",
              "        return;\n",
              "      }\n",
              "      const div = document.createElement('div');\n",
              "      const label = document.createElement('label');\n",
              "      label.textContent = `Downloading \"${filename}\": `;\n",
              "      div.appendChild(label);\n",
              "      const progress = document.createElement('progress');\n",
              "      progress.max = size;\n",
              "      div.appendChild(progress);\n",
              "      document.body.appendChild(div);\n",
              "\n",
              "      const buffers = [];\n",
              "      let downloaded = 0;\n",
              "\n",
              "      const channel = await google.colab.kernel.comms.open(id);\n",
              "      // Send a message to notify the kernel that we're ready.\n",
              "      channel.send({})\n",
              "\n",
              "      for await (const message of channel.messages) {\n",
              "        // Send a message to notify the kernel that we're ready.\n",
              "        channel.send({})\n",
              "        if (message.buffers) {\n",
              "          for (const buffer of message.buffers) {\n",
              "            buffers.push(buffer);\n",
              "            downloaded += buffer.byteLength;\n",
              "            progress.value = downloaded;\n",
              "          }\n",
              "        }\n",
              "      }\n",
              "      const blob = new Blob(buffers, {type: 'application/binary'});\n",
              "      const a = document.createElement('a');\n",
              "      a.href = window.URL.createObjectURL(blob);\n",
              "      a.download = filename;\n",
              "      div.appendChild(a);\n",
              "      a.click();\n",
              "      div.remove();\n",
              "    }\n",
              "  "
            ]
          },
          "metadata": {}
        },
        {
          "output_type": "display_data",
          "data": {
            "text/plain": [
              "<IPython.core.display.Javascript object>"
            ],
            "application/javascript": [
              "download(\"download_903f6b9d-03f3-411b-a04c-55102a71c8da\", \"all_data_correlation_matrix.jpg\", 80975)"
            ]
          },
          "metadata": {}
        },
        {
          "output_type": "display_data",
          "data": {
            "text/plain": [
              "<Figure size 1200x800 with 2 Axes>"
            ],
            "image/png": "[encoded data removed]"
          },
          "metadata": {}
        },
        {
          "output_type": "stream",
          "name": "stdout",
          "text": [
            "Data transformation execution time: 1.80 seconds\n"
          ]
        }
      ],
      "source": [
        "# Cache the DataFrame to avoid recomputation\n",
        "beer_sample_set.cache()\n",
        "\n",
        "# Start the timer\n",
        "start_time = time.time()\n",
        "\n",
        "# Select numeric columns\n",
        "numeric_columns = [field.name for field in beer_copy.schema.fields if isinstance(field.dataType, (IntegerType, FloatType, DoubleType))]\n",
        "\n",
        "# Efficiently compute the correlation matrix using Spark's built-in method\n",
        "corr_matrix_spark = beer_copy.select(numeric_columns).toPandas().corr()\n",
        "\n",
        "# Convert Spark's correlation matrix to a Pandas DataFrame\n",
        "corr_matrix = pd.DataFrame(corr_matrix_spark, index=numeric_columns, columns=numeric_columns)\n",
        "\n",
        "# Plot the heatmap\n",
        "plt.figure(figsize=(12, 8))\n",
        "sns.heatmap(corr_matrix, annot=True, fmt=\".2f\", cmap=custom_cmap)\n",
        "plt.title('Correlation Matrix')\n",
        "\n",
        "# Save the plot as an image with better layout\n",
        "filename = \"all_data_correlation_matrix.jpg\"\n",
        "plt.savefig(filename, bbox_inches='tight')\n",
        "\n",
        "# Download the file\n",
        "files.download(filename)\n",
        "\n",
        "# Show the plot\n",
        "plt.show()\n",
        "\n",
        "# Stop the timer\n",
        "end_time = time.time()\n",
        "\n",
        "# Calculate the elapsed time\n",
        "elapsed_time = end_time - start_time\n",
        "\n",
        "# Print the elapsed time\n",
        "print(f\"Data transformation execution time: {elapsed_time:.2f} seconds\")\n"
      ]
    },
    {
      "cell_type": "markdown",
      "metadata": {
        "id": "OATyyUFvPGta"
      },
      "source": [
        "<span><div style=\"display: https://drive.google.com/uc?export=view&id=1ailmmrZcMxj6yXZv-tkmiGOHgoZ5Iay3inline-block; vertical-align: middle;\">\n",
        "<img src=\"https://drive.google.com/uc?export=view&id=1ailmmrZcMxj6yXZv-tkmiGOHgoZ5Iay3\" width=\"40\"/><font color='#811f00'><br>\n",
        "The most notable insight here is that the correlation plot seems to be completely uniform. Processing this data set will be challenging. To discover the relationships will require advanced techniques and deep domain knowledge.</font> </div></span>"
      ]
    },
    {
      "cell_type": "code",
      "execution_count": 11,
      "metadata": {
        "id": "loLcmREQ87z1",
        "colab": {
          "base_uri": "https://localhost:8080/",
          "height": 474
        },
        "outputId": "090b6fe1-09cb-47d9-b8cd-bd231500cc3e"
      },
      "outputs": [
        {
          "output_type": "error",
          "ename": "AnalysisException",
          "evalue": "cannot resolve '`pH_Level`' given input columns: [households, housing_median_age, latitude, longitude, median_house_value, median_income, population, total_bedrooms, total_rooms];;\n'Project ['pH_Level, 'Alcohol_Content, 'Bitterness, 'Color, 'Quality_Score]\n+- Relation[longitude#16,latitude#17,housing_median_age#18,total_rooms#19,total_bedrooms#20,population#21,households#22,median_income#23,median_house_value#24] csv\n",
          "traceback": [
            "\u001b[0;31m---------------------------------------------------------------------------\u001b[0m",
            "\u001b[0;31mAnalysisException\u001b[0m                         Traceback (most recent call last)",
            "\u001b[0;32m<ipython-input-11-defe0c5fc001>\u001b[0m in \u001b[0;36m<cell line: 8>\u001b[0;34m()\u001b[0m\n\u001b[1;32m      6\u001b[0m \u001b[0;34m\u001b[0m\u001b[0m\n\u001b[1;32m      7\u001b[0m \u001b[0;31m# Collect the data as a Pandas DataFrame\u001b[0m\u001b[0;34m\u001b[0m\u001b[0;34m\u001b[0m\u001b[0m\n\u001b[0;32m----> 8\u001b[0;31m \u001b[0mbeer_sample_pandas\u001b[0m \u001b[0;34m=\u001b[0m \u001b[0mbeer_copy\u001b[0m\u001b[0;34m.\u001b[0m\u001b[0mselect\u001b[0m\u001b[0;34m(\u001b[0m\u001b[0mnumeric_columns\u001b[0m\u001b[0;34m)\u001b[0m\u001b[0;34m.\u001b[0m\u001b[0mtoPandas\u001b[0m\u001b[0;34m(\u001b[0m\u001b[0;34m)\u001b[0m\u001b[0;34m\u001b[0m\u001b[0;34m\u001b[0m\u001b[0m\n\u001b[0m\u001b[1;32m      9\u001b[0m \u001b[0;34m\u001b[0m\u001b[0m\n\u001b[1;32m     10\u001b[0m \u001b[0;31m## Plot the pair plot\u001b[0m\u001b[0;34m\u001b[0m\u001b[0;34m\u001b[0m\u001b[0m\n",
            "\u001b[0;32m/usr/local/lib/python3.10/dist-packages/pyspark/sql/dataframe.py\u001b[0m in \u001b[0;36mselect\u001b[0;34m(self, *cols)\u001b[0m\n\u001b[1;32m   1419\u001b[0m         \u001b[0;34m[\u001b[0m\u001b[0mRow\u001b[0m\u001b[0;34m(\u001b[0m\u001b[0mname\u001b[0m\u001b[0;34m=\u001b[0m\u001b[0;34mu'Alice'\u001b[0m\u001b[0;34m,\u001b[0m \u001b[0mage\u001b[0m\u001b[0;34m=\u001b[0m\u001b[0;36m12\u001b[0m\u001b[0;34m)\u001b[0m\u001b[0;34m,\u001b[0m \u001b[0mRow\u001b[0m\u001b[0;34m(\u001b[0m\u001b[0mname\u001b[0m\u001b[0;34m=\u001b[0m\u001b[0;34mu'Bob'\u001b[0m\u001b[0;34m,\u001b[0m \u001b[0mage\u001b[0m\u001b[0;34m=\u001b[0m\u001b[0;36m15\u001b[0m\u001b[0;34m)\u001b[0m\u001b[0;34m]\u001b[0m\u001b[0;34m\u001b[0m\u001b[0;34m\u001b[0m\u001b[0m\n\u001b[1;32m   1420\u001b[0m         \"\"\"\n\u001b[0;32m-> 1421\u001b[0;31m         \u001b[0mjdf\u001b[0m \u001b[0;34m=\u001b[0m \u001b[0mself\u001b[0m\u001b[0;34m.\u001b[0m\u001b[0m_jdf\u001b[0m\u001b[0;34m.\u001b[0m\u001b[0mselect\u001b[0m\u001b[0;34m(\u001b[0m\u001b[0mself\u001b[0m\u001b[0;34m.\u001b[0m\u001b[0m_jcols\u001b[0m\u001b[0;34m(\u001b[0m\u001b[0;34m*\u001b[0m\u001b[0mcols\u001b[0m\u001b[0;34m)\u001b[0m\u001b[0;34m)\u001b[0m\u001b[0;34m\u001b[0m\u001b[0;34m\u001b[0m\u001b[0m\n\u001b[0m\u001b[1;32m   1422\u001b[0m         \u001b[0;32mreturn\u001b[0m \u001b[0mDataFrame\u001b[0m\u001b[0;34m(\u001b[0m\u001b[0mjdf\u001b[0m\u001b[0;34m,\u001b[0m \u001b[0mself\u001b[0m\u001b[0;34m.\u001b[0m\u001b[0msql_ctx\u001b[0m\u001b[0;34m)\u001b[0m\u001b[0;34m\u001b[0m\u001b[0;34m\u001b[0m\u001b[0m\n\u001b[1;32m   1423\u001b[0m \u001b[0;34m\u001b[0m\u001b[0m\n",
            "\u001b[0;32m/usr/local/lib/python3.10/dist-packages/py4j/java_gateway.py\u001b[0m in \u001b[0;36m__call__\u001b[0;34m(self, *args)\u001b[0m\n\u001b[1;32m   1302\u001b[0m \u001b[0;34m\u001b[0m\u001b[0m\n\u001b[1;32m   1303\u001b[0m         \u001b[0manswer\u001b[0m \u001b[0;34m=\u001b[0m \u001b[0mself\u001b[0m\u001b[0;34m.\u001b[0m\u001b[0mgateway_client\u001b[0m\u001b[0;34m.\u001b[0m\u001b[0msend_command\u001b[0m\u001b[0;34m(\u001b[0m\u001b[0mcommand\u001b[0m\u001b[0;34m)\u001b[0m\u001b[0;34m\u001b[0m\u001b[0;34m\u001b[0m\u001b[0m\n\u001b[0;32m-> 1304\u001b[0;31m         return_value = get_return_value(\n\u001b[0m\u001b[1;32m   1305\u001b[0m             answer, self.gateway_client, self.target_id, self.name)\n\u001b[1;32m   1306\u001b[0m \u001b[0;34m\u001b[0m\u001b[0m\n",
            "\u001b[0;32m/usr/local/lib/python3.10/dist-packages/pyspark/sql/utils.py\u001b[0m in \u001b[0;36mdeco\u001b[0;34m(*a, **kw)\u001b[0m\n\u001b[1;32m    132\u001b[0m                 \u001b[0;31m# Hide where the exception came from that shows a non-Pythonic\u001b[0m\u001b[0;34m\u001b[0m\u001b[0;34m\u001b[0m\u001b[0m\n\u001b[1;32m    133\u001b[0m                 \u001b[0;31m# JVM exception message.\u001b[0m\u001b[0;34m\u001b[0m\u001b[0;34m\u001b[0m\u001b[0m\n\u001b[0;32m--> 134\u001b[0;31m                 \u001b[0mraise_from\u001b[0m\u001b[0;34m(\u001b[0m\u001b[0mconverted\u001b[0m\u001b[0;34m)\u001b[0m\u001b[0;34m\u001b[0m\u001b[0;34m\u001b[0m\u001b[0m\n\u001b[0m\u001b[1;32m    135\u001b[0m             \u001b[0;32melse\u001b[0m\u001b[0;34m:\u001b[0m\u001b[0;34m\u001b[0m\u001b[0;34m\u001b[0m\u001b[0m\n\u001b[1;32m    136\u001b[0m                 \u001b[0;32mraise\u001b[0m\u001b[0;34m\u001b[0m\u001b[0;34m\u001b[0m\u001b[0m\n",
            "\u001b[0;32m/usr/local/lib/python3.10/dist-packages/pyspark/sql/utils.py\u001b[0m in \u001b[0;36mraise_from\u001b[0;34m(e)\u001b[0m\n",
            "\u001b[0;31mAnalysisException\u001b[0m: cannot resolve '`pH_Level`' given input columns: [households, housing_median_age, latitude, longitude, median_house_value, median_income, population, total_bedrooms, total_rooms];;\n'Project ['pH_Level, 'Alcohol_Content, 'Bitterness, 'Color, 'Quality_Score]\n+- Relation[longitude#16,latitude#17,housing_median_age#18,total_rooms#19,total_bedrooms#20,population#21,households#22,median_income#23,median_house_value#24] csv\n"
          ]
        }
      ],
      "source": [
        "# Start the timer\n",
        "start_time = time.time()\n",
        "\n",
        "# Select relevant numerical columns\n",
        "numeric_columns = ['pH_Level', 'Alcohol_Content', 'Bitterness', 'Color', 'Quality_Score']\n",
        "\n",
        "# Collect the data as a Pandas DataFrame\n",
        "beer_sample_pandas = beer_copy.select(numeric_columns).toPandas()\n",
        "\n",
        "## Plot the pair plot\n",
        "plt.figure(figsize=(12, 10))\n",
        "sns.pairplot(beer_sample_pandas, plot_kws={'color': '#d98416'}, diag_kws={'color': '#d98416'})\n",
        "\n",
        "# Save the plot as an image with better layout\n",
        "filename = \"all_data_pair_plot.jpg\"\n",
        "plt.savefig(filename, bbox_inches='tight')\n",
        "\n",
        "# Download the file\n",
        "files.download(\"all_data_pair_plot.jpg\")\n",
        "\n",
        "# Show the plot\n",
        "plt.show()\n",
        "\n",
        " # Stop the timer\n",
        "end_time = time.time()\n",
        "\n",
        "# Calculate the elapsed time\n",
        "elapsed_time = end_time - start_time\n",
        "\n",
        "# Print the elapsed time\n",
        "print(f\"Data transformation execution time: {elapsed_time:.2f} seconds\")\n"
      ]
    },
    {
      "cell_type": "markdown",
      "metadata": {
        "id": "Ykvdo2I8PrDE"
      },
      "source": [
        "<span><div style=\"display: https://drive.google.com/uc?export=view&id=1ailmmrZcMxj6yXZv-tkmiGOHgoZ5Iay3inline-block; vertical-align: middle;\">\n",
        "<img src=\"https://drive.google.com/uc?export=view&id=1ailmmrZcMxj6yXZv-tkmiGOHgoZ5Iay3\" width=\"40\"/><font color='#811f00'><br>\n",
        "This confirms the correlation plot consculsion. These pair plots show flat and uniform data. This shows how important this step in the preprocessing is because without these plots, it wouldn't be so obvious that the data set would be a challenge for finding relationships.</font> </div></span>"
      ]
    },
    {
      "cell_type": "code",
      "execution_count": null,
      "metadata": {
        "id": "1pU0irqj873d"
      },
      "outputs": [],
      "source": [
        "# Start the timer\n",
        "start_time = time.time()\n",
        "\n",
        "# Define the columns relevant for feature engineering (features that contain chemistry dependent properties)\n",
        "relevant_columns = ['pH_Level', 'Ingredient_Ratio', 'Fermentation_Time', 'Temperature',\n",
        "                    'Alcohol_Content', 'Bitterness', 'Color', 'Quality_Score']\n",
        "categorical_columns = ['Beer_Style']\n",
        "\n",
        "# Create a subset of the data with relevant columns\n",
        "beer_quality_predict = beer_copy.select(relevant_columns + categorical_columns)\n",
        "\n",
        "# Preview the subset of the data\n",
        "print(\"Subset of the data with relevant columns:\")\n",
        "beer_quality_predict.show(5)\n",
        "\n",
        " # Stop the timer\n",
        "end_time = time.time()\n",
        "\n",
        "# Calculate the elapsed time\n",
        "elapsed_time = end_time - start_time\n",
        "\n",
        "# Print the elapsed time\n",
        "print(f\"Data transformation execution time: {elapsed_time:.2f} seconds\")"
      ]
    },
    {
      "cell_type": "markdown",
      "metadata": {
        "id": "qrZWGsdHQYGM"
      },
      "source": [
        "<span><div style=\"display: https://drive.google.com/uc?export=view&id=1ailmmrZcMxj6yXZv-tkmiGOHgoZ5Iay3inline-block; vertical-align: middle;\">\n",
        "<img src=\"https://drive.google.com/uc?export=view&id=1ailmmrZcMxj6yXZv-tkmiGOHgoZ5Iay3\" width=\"40\"/><font color='#811f00'><br>\n",
        "This analysis will focus on the chemical properties of the beer making process that lead to top quality scores (https://www.micetgroup.com/the-business-competition-strategy-of-craft-brewery/). So here a chemical properties data subset is formed.</font> </div></span>"
      ]
    },
    {
      "cell_type": "code",
      "execution_count": null,
      "metadata": {
        "id": "IHfONrBn876i"
      },
      "outputs": [],
      "source": [
        "# Start the timer\n",
        "start_time = time.time()\n",
        "\n",
        "# Show schema of the DataFrame\n",
        "beer_quality_predict.printSchema()\n",
        "\n",
        "# Show summary statistics for numerical columns\n",
        "beer_quality_predict.describe().show()\n",
        "\n",
        " # Stop the timer\n",
        "end_time = time.time()\n",
        "\n",
        "# Calculate the elapsed time\n",
        "elapsed_time = end_time - start_time\n",
        "\n",
        "# Print the elapsed time\n",
        "print(f\"Data transformation execution time: {elapsed_time:.2f} seconds\")\n"
      ]
    },
    {
      "cell_type": "code",
      "execution_count": null,
      "metadata": {
        "id": "UJVPu0ou879s"
      },
      "outputs": [],
      "source": [
        "# Start the timer\n",
        "start_time = time.time()\n",
        "\n",
        "# Extract Individual Components\n",
        "beer_quality_predict = beer_quality_predict.withColumn('Water_Ratio', lit(1.0))\n",
        "beer_quality_predict = beer_quality_predict.withColumn('Malt_Ratio', split(col('Ingredient_Ratio'), ':').getItem(1).cast('float'))\n",
        "beer_quality_predict = beer_quality_predict.withColumn('Hops_Ratio', split(col('Ingredient_Ratio'), ':').getItem(2).cast('float'))\n",
        "\n",
        "# Assemble all relevant features into a vector\n",
        "vector_col = 'features'\n",
        "assembler = VectorAssembler(inputCols=['Water_Ratio', 'Malt_Ratio', 'Hops_Ratio', 'pH_Level', 'Fermentation_Time', 'Temperature',\n",
        "                                       'Alcohol_Content', 'Bitterness', 'Color', 'Quality_Score'], outputCol=vector_col)\n",
        "df_vector = assembler.transform(beer_quality_predict).select(vector_col)\n",
        "\n",
        "# Calculate Correlation Matrix\n",
        "matrix = Correlation.corr(df_vector, vector_col).head()[0]\n",
        "corr_matrix_indv = pd.DataFrame(matrix.toArray(), columns=['Water_Ratio', 'Malt_Ratio', 'Hops_Ratio', 'pH_Level', 'Fermentation_Time', 'Temperature',\n",
        "                                                           'Alcohol_Content', 'Bitterness', 'Color', 'Quality_Score'])\n",
        "\n",
        "# Visualize Correlations\n",
        "plt.figure(figsize=(12, 8))\n",
        "sns.heatmap(corr_matrix_indv, annot=True, cmap=custom_cmap)\n",
        "plt.title('Correlation Matrix for Individual Ratios')\n",
        "\n",
        "# Save the plot as an image with better layout\n",
        "filename = \"property_data_correlation_matrix.jpg\"\n",
        "plt.savefig(filename, bbox_inches='tight')\n",
        "\n",
        "# Download the file\n",
        "files.download(\"property_data_correlation_matrix.jpg\")\n",
        "\n",
        "# Show the plot\n",
        "plt.show()\n",
        "\n",
        " # Stop the timer\n",
        "end_time = time.time()\n",
        "\n",
        "# Calculate the elapsed time\n",
        "elapsed_time = end_time - start_time\n",
        "\n",
        "# Print the elapsed time\n",
        "print(f\"Data transformation execution time: {elapsed_time:.2f} seconds\")\n"
      ]
    },
    {
      "cell_type": "markdown",
      "metadata": {
        "id": "veVrXorTRC2h"
      },
      "source": [
        "<span><div style=\"display: https://drive.google.com/uc?export=view&id=1ailmmrZcMxj6yXZv-tkmiGOHgoZ5Iay3inline-block; vertical-align: middle;\">\n",
        "<img src=\"https://drive.google.com/uc?export=view&id=1ailmmrZcMxj6yXZv-tkmiGOHgoZ5Iay3\" width=\"40\"/><font color='#811f00'><br>\n",
        "Remarkably uniform. Traditional corelation matrices would show hints of a relationship. In this case, a deep dive into domain knowledge will be used to look closely for any relationships in the raw data.</font> </div></span>"
      ]
    },
    {
      "cell_type": "code",
      "execution_count": null,
      "metadata": {
        "id": "tpn4HMJJ88BH"
      },
      "outputs": [],
      "source": [
        "# Start the timer\n",
        "start_time = time.time()\n",
        "\n",
        "# Create Combined Ratio Feature\n",
        "beer_quality_predict = beer_quality_predict.withColumn('Malt_Hops_Ratio', col('Malt_Ratio') / col('Hops_Ratio'))\n",
        "\n",
        "# Stop the timer\n",
        "end_time = time.time()\n",
        "\n",
        "# Calculate the elapsed time\n",
        "elapsed_time = end_time - start_time\n",
        "\n",
        "# Print the elapsed time\n",
        "print(f\"Data transformation execution time: {elapsed_time:.2f} seconds\")"
      ]
    },
    {
      "cell_type": "markdown",
      "metadata": {
        "id": "_KsarfbDm0ty"
      },
      "source": [
        "## Summary\n",
        " Given the uniform structure of this data set, let's see if any insights can be learned when applying domain knowledge to the dataset.\n",
        "\n",
        " The ingredient ratio of water, malt, and hops is crucial in brewing. Chemistry shows that water forms the base of the mixture, malt provides the sugars needed for fermentation, and hops add bitterness and aroma. Typically, water is present in the highest ratio, followed by malt, with hops being in the smallest ratio. In this next analysis, we will create separate columns for the water, malt, and hops ratios, as well as a new feature column for the malt-to-hops ratio, to better understand their individual and combined effects on beer quality."
      ]
    },
    {
      "cell_type": "markdown",
      "metadata": {
        "id": "hfyxbobwUEhL"
      },
      "source": [
        "# Feature Engineering\n",
        "\n",
        "We will infer new features based on existing data. The Malt_Type column will be created based on the beer's color, and the Hops_Type column will be derived from the beer's bitterness. These engineered features will then be one-hot encoded to prepare them for machine learning models."
      ]
    },
    {
      "cell_type": "code",
      "execution_count": null,
      "metadata": {
        "id": "8tfubOYG88EN"
      },
      "outputs": [],
      "source": [
        "# Start the timer\n",
        "start_time = time.time()\n",
        "\n",
        "# Function to infer malt type from color\n",
        "beer_quality_predict = beer_quality_predict.withColumn(\n",
        "    'Malt_Type',\n",
        "    when(col('Color') < 10, 'Barley')\n",
        "    .when((col('Color') >= 10) & (col('Color') < 20), 'Wheat')\n",
        "    .when((col('Color') >= 20) & (col('Color') < 30), 'Rye')\n",
        "    .otherwise('Oats')\n",
        ")\n",
        "\n",
        "# Function to infer hops type from bitterness\n",
        "beer_quality_predict = beer_quality_predict.withColumn(\n",
        "    'Hops_Type',\n",
        "    when(col('Bitterness') > 40, 'Bittering')\n",
        "    .when((col('Bitterness') > 20) & (col('Bitterness') <= 40), 'Dual Purpose')\n",
        "    .otherwise('Aroma')\n",
        ")\n",
        "\n",
        "# Show the updated DataFrame with the new engineered features\n",
        "beer_quality_predict.select('Color', 'Malt_Type', 'Bitterness', 'Hops_Type').show(5)\n",
        "\n",
        "# One-hot encode categorical variables for machine learning models\n",
        "categorical_columns = ['Beer_Style', 'Malt_Type', 'Hops_Type']\n",
        "\n",
        "# Create a list to hold the stages of the Pipeline\n",
        "stages = []\n",
        "\n",
        "# Loop through each categorical column and create a StringIndexer and OneHotEncoder for each\n",
        "for colm in categorical_columns:\n",
        "    indexer = StringIndexer(inputCol=colm, outputCol=colm + '_Index')\n",
        "    encoder = OneHotEncoder(inputCol=colm + '_Index', outputCol=colm + '_Vec')\n",
        "    stages += [indexer, encoder]\n",
        "\n",
        "# Apply the stages of the Pipeline to the DataFrame\n",
        "pipeline = Pipeline(stages=stages)\n",
        "beer_encoded = pipeline.fit(beer_quality_predict).transform(beer_quality_predict)\n",
        "\n",
        "# Show the resulting DataFrame with the one-hot encoded columns\n",
        "print(\"One-hot encoded dataframe:\")\n",
        "beer_encoded.select([colm for colm in beer_encoded.columns if 'Vec' in colm]).show()\n",
        "\n",
        "# Preview the entire DataFrame\n",
        "beer_encoded.show()\n",
        "\n",
        " # Stop the timer\n",
        "end_time = time.time()\n",
        "\n",
        "# Calculate the elapsed time\n",
        "elapsed_time = end_time - start_time\n",
        "\n",
        "# Print the elapsed time\n",
        "print(f\"Data transformation execution time: {elapsed_time:.2f} seconds\")\n"
      ]
    },
    {
      "cell_type": "markdown",
      "metadata": {
        "id": "y-zBSgD6S6v9"
      },
      "source": [
        "<span><div style=\"display: https://drive.google.com/uc?export=view&id=1ailmmrZcMxj6yXZv-tkmiGOHgoZ5Iay3inline-block; vertical-align: middle;\">\n",
        "<img src=\"https://drive.google.com/uc?export=view&id=1ailmmrZcMxj6yXZv-tkmiGOHgoZ5Iay3\" width=\"40\"/><font color='#811f00'><br>\n",
        "Using reference literature on beer making, hops and malt types can be inferred based on the beer's color and bitterness. In brewing, the color of the beer, which ranges from pale yellow to dark brown, is primarily influenced by the type and amount of malt used. Malt provides fermentable sugars and contributes to the beer's flavor and body.\n",
        "<br><br>\n",
        "Hops, known for their bitterness and aromatic qualities, counterbalance the sweetness of the malt. The bitterness level, often measured in International Bitterness Units (IBUs), indicates the type of hops used. Chemistry plays a crucial role in understanding these properties, as different malts and hops impart specific flavors, aromas, and colors through their unique chemical compositions.\n",
        "<br><br>\n",
        "By analyzing these characteristics, brewers can predict the type of malt and hops used in a beer, enabling them to replicate or innovate on traditional recipes.</font> </div></span>"
      ]
    },
    {
      "cell_type": "markdown",
      "metadata": {
        "id": "Epk01PytHPDW"
      },
      "source": [
        "<span><div style=\"display: https://drive.google.com/uc?export=view&id=1ailmmrZcMxj6yXZv-tkmiGOHgoZ5Iay3inline-block; vertical-align: middle;\">\n",
        "<img src=\"https://drive.google.com/uc?export=view&id=1ailmmrZcMxj6yXZv-tkmiGOHgoZ5Iay3\" width=\"40\"/><font color='#811f00'><br>The temperature split turned out not to be a useful metric because the category values overlap so Beer_Style cannot be clearly delineated at this point.\n",
        "<br><br>\n",
        "Reference:\n",
        "<br>\n",
        "1 Ales: 62-75 °F (17-24 °C)\n",
        "<br>\n",
        "2 Lagers: 46-58 °F (8-14 °C) #assume dark lagers for this project<br>\n",
        "3 Wheat and Belgian styles: 62-85 °F (17-29 °C), ales are divided into these categories\n",
        "<br><br>\n",
        "Next, let's take a look at whether or not the Beer_Style feature distribute consistently into the Fermentation_Time feature.</font> </div></span>"
      ]
    },
    {
      "cell_type": "code",
      "execution_count": null,
      "metadata": {
        "id": "vk8jgf4188HL"
      },
      "outputs": [],
      "source": [
        "# Start the timer\n",
        "start_time = time.time()\n",
        "\n",
        "# Extract relevant columns\n",
        "ferment_style_comp = beer_quality_predict.select('Beer_Style', 'Fermentation_Time')\n",
        "\n",
        "# Convert to Pandas DataFrame for plotting\n",
        "ferment_style_comp_pd = ferment_style_comp.toPandas()\n",
        "\n",
        "# Create a box plot\n",
        "plt.figure(figsize=(14, 8))\n",
        "sns.boxplot(x='Beer_Style', y='Fermentation_Time', data=ferment_style_comp_pd)\n",
        "plt.title('Distribution of Fermentation Time by Beer Style')\n",
        "plt.xticks(rotation=45)\n",
        "\n",
        "# Save the plot as an image with better layout\n",
        "filename = \"fermentation_style_box_plot.jpg\"\n",
        "plt.savefig(filename, bbox_inches='tight')\n",
        "\n",
        "# Download the file\n",
        "files.download(\"fermentation_style_box_plot.jpg\")\n",
        "\n",
        "# Show the plot\n",
        "plt.show()\n",
        "\n",
        "# Create a violin plot\n",
        "plt.figure(figsize=(14, 8))\n",
        "sns.violinplot(x='Beer_Style', y='Fermentation_Time', data=ferment_style_comp_pd)\n",
        "plt.title('Distribution of Fermentation Time by Beer Style')\n",
        "plt.xticks(rotation=45)\n",
        "\n",
        "# Save the plot as an image with better layout\n",
        "filename = \"fermentation_style_violin_plot.jpg\"\n",
        "plt.savefig(filename, bbox_inches='tight')\n",
        "\n",
        "# Download the file\n",
        "files.download(\"fermentation_style_violin_plot.jpg\")\n",
        "\n",
        "# Show the plot\n",
        "plt.show()\n",
        "\n",
        " # Stop the timer\n",
        "end_time = time.time()\n",
        "\n",
        "# Calculate the elapsed time\n",
        "elapsed_time = end_time - start_time\n",
        "\n",
        "# Print the elapsed time\n",
        "print(f\"Data transformation execution time: {elapsed_time:.2f} seconds\")"
      ]
    },
    {
      "cell_type": "markdown",
      "metadata": {
        "id": "XvI3Z1pBYCxO"
      },
      "source": [
        "<span><div style=\"display: https://drive.google.com/uc?export=view&id=1ailmmrZcMxj6yXZv-tkmiGOHgoZ5Iay3inline-block; vertical-align: middle;\">\n",
        "<img src=\"https://drive.google.com/uc?export=view&id=1ailmmrZcMxj6yXZv-tkmiGOHgoZ5Iay3\" width=\"40\"/><font color='#811f00'><br><u>Box Plot:</u><br>This box plot shows the distribution of fermentation time across different beer styles. Box plots are useful for visualizing the spread and central tendency of the data, as well as identifying any potential outliers.<br><br>\n",
        "Here are the box plot key points:<br>\n",
        "<br><u>X-Axis (Beer Style):</u> Lists the different types of beer styles, such as Wheat Beer, Sour, Ale, Stout, Lager, Pilsner, IPA, and Porter.<br><u>\n",
        "Y-Axis (Fermentation Time):</u> Represents the fermentation time in days.<br>\n",
        "<u>Median Fermentation Time:</u> The horizontal line within each box represents the median fermentation time for each beer style. Across the beer styles, the median fermentation time is relatively consistent, ranging between 14 and 16 days.<br>\n",
        "<u>Interquartile Range (IQR):</u> The boxes represent the middle 50% of the data (from the 25th percentile to the 75th percentile). The IQR for each beer style shows some variation, but overall, most beer styles have an IQR that spans from approximately 13 to 16.5 days.<br>\n",
        "<u>Whiskers:</u> The lines (whiskers) extending from the boxes indicate the range of fermentation times, excluding outliers. The whiskers suggest that the majority of the fermentation times fall between 10 and 18 days for all beer styles.<br>\n",
        "<u>Outliers:</u> There do not appear to be any significant outliers in the data, as no points are plotted outside the whiskers.<br>\n",
        "<u>Conclusion:</u>\n",
        "The plot shows that while there is some variation in fermentation times across different beer styles, the range is generally consistent. Most beer styles have a median fermentation time around 15 days, with fermentation times ranging from approximately 10 to 18 days. This suggests that fermentation time is relatively standardized across different styles of beer.<br><br><br>\n",
        "<u>Violin Plot</u><br>\n",
        "The violin plot shows that fermentation times are relatively consistent across different beer styles, with most styles having a median fermentation time around 15 days. Violin plots combine aspects of box plots and density plots to provide more information about the distribution of data.<br><br>Here are the box plot key points:<br><br>\n",
        "<u>X-Axis (Beer Style):</u> Lists the different types of beer styles, such as Wheat Beer, Sour, Ale, Stout, Lager, Pilsner, IPA, and Porter.<br><u>\n",
        "Y-Axis (Fermentation Time):</u> Represents the fermentation time in days.<br>\n",
        "<u> Distribution Shape:</u> The width of each violin represents the density of data points at different fermentation times for each beer style. Wider sections indicate higher density (more common fermentation times), while narrower sections indicate lower density.<br>\n",
        "<u>Central Tendency:</u> The white dot in the center of each violin represents the median fermentation time for that beer style. The median is relatively consistent across beer styles, around 15 days.<br>\n",
        "<u>Range of Fermentation Time:</u> The plots are generally symmetrical, indicating a uniform distribution of fermentation times. The range of fermentation time for most beer styles is between 10 and 18 days.<br>\n",
        "<u>Density Peaks:</u> Some beer styles show distinct peaks in density, indicating specific fermentation times that are more common. For example, Lager, Pilsner, and IPA show a relatively wider distribution near the median, suggesting a more even spread of fermentation times around the median value."
      ]
    },
    {
      "cell_type": "markdown",
      "metadata": {
        "id": "6a6-SPShUuI5"
      },
      "source": [
        "## Summary\n",
        "This discrete data is based on all 10 million data points and shows that Lager and IPA have an increased fermentation time due to the chemistry involved. Lager yeasts ferment at lower temperatures and more slowly, allowing for the development of clean, crisp flavors. IPAs, with their higher hop content, require extended fermentation to balance the bitterness and develop the complex hop aromas and flavors through biochemical reactions.\n",
        "\n",
        "Generally, the plots show that the fermentation times for different beer styles are consistent; with median values around 15-16 days and a range between approximately 10 and 18 days. This is evident from the box plot and violin plot, which both show similar distributions across beer styles. The similar interquartile ranges indicate that the central 50% of the data points for each style lie within a comparable range. The density of data points around the median values, as shown in the violin plot, reinforces this observation.<br><br>\n",
        "This data suggests that while specific styles like Lager and IPA may have increased fermentation times due to their unique chemistry, the overall process duration is quite uniform across various beer styles."
      ]
    },
    {
      "cell_type": "markdown",
      "metadata": {
        "id": "uzxtGusoUhbP"
      },
      "source": [
        "# Unsupervised Learning\n",
        "\n",
        "This experiment explores clustering models with a K-means experiment. To determine the optimal cluster grouping number inertia and silhouette scores will be used."
      ]
    },
    {
      "cell_type": "code",
      "execution_count": null,
      "metadata": {
        "id": "KYFW_x0JdlkY"
      },
      "outputs": [],
      "source": [
        "# Start the timer\n",
        "start_time = time.time()\n",
        "\n",
        "# Select relevant features for clustering\n",
        "clustering_features = ['Temperature', 'Fermentation_Time', 'pH_Level', 'Alcohol_Content', 'Bitterness', 'Color']\n",
        "\n",
        "# Assemble the features into a single vector column\n",
        "assembler = VectorAssembler(inputCols=clustering_features, outputCol=\"features\")\n",
        "beer_assembled = assembler.transform(beer_encoded)\n",
        "\n",
        "# Normalize the features\n",
        "scaler = StandardScaler(inputCol=\"features\", outputCol=\"scaled_features\", withStd=True, withMean=True)\n",
        "scaler_model = scaler.fit(beer_assembled)\n",
        "beer_scaled = scaler_model.transform(beer_assembled)\n",
        "\n",
        "# Cache the scaled DataFrame to speed up clustering iterations\n",
        "beer_scaled.cache()\n",
        "\n",
        "# Define the range of clusters to test; based on previous experiments\n",
        "min_clusters = 2\n",
        "max_clusters = 40\n",
        "\n",
        "# Store inertia and silhouette scores for different cluster sizes\n",
        "inertia_values = []\n",
        "silhouette_scores = []\n",
        "\n",
        "# ClusteringEvaluator to calculate silhouette scores\n",
        "evaluator = ClusteringEvaluator(featuresCol='scaled_features', metricName='silhouette', distanceMeasure='squaredEuclidean')\n",
        "\n",
        "# Iterate over the range of clusters\n",
        "for k_clusters in range(min_clusters, max_clusters + 1):\n",
        "    kmeans = KMeans(k=k_clusters, seed=42, featuresCol=\"scaled_features\")\n",
        "    kmeans_model = kmeans.fit(beer_scaled)\n",
        "\n",
        "    # Make predictions\n",
        "    predictions = kmeans_model.transform(beer_scaled)\n",
        "\n",
        "    # Append inertia (sum of squared distances to nearest cluster center)\n",
        "    inertia_values.append(kmeans_model.summary.trainingCost)\n",
        "\n",
        "    # Calculate silhouette score\n",
        "    silhouette_avg = evaluator.evaluate(predictions)\n",
        "    silhouette_scores.append(silhouette_avg)\n",
        "\n",
        "# Print the scores for this number of clusters\n",
        "    print(f\"Number of clusters: {k_clusters}, Inertia: {inertia_values[-1]:.2f}, Silhouette Score: {silhouette_avg:.4f}\")\n",
        "\n",
        "# Plot the inertia values to visualize the optimal number of clusters\n",
        "plt.figure(figsize=(10, 6))\n",
        "plt.plot(range(min_clusters, max_clusters + 1), inertia_values, marker='o', linestyle='-', color='#d98416', label='Inertia')\n",
        "plt.xlabel('Number of Clusters')\n",
        "plt.ylabel('Inertia')\n",
        "plt.title('Elbow Method for Optimal Number of Clusters')\n",
        "plt.xticks(range(min_clusters, max_clusters + 1))\n",
        "plt.grid(True)\n",
        "plt.legend()\n",
        "\n",
        "# Save the plot as an image with better layout\n",
        "filename = \"elbow_cluster_plot.jpg\"\n",
        "plt.savefig(filename, bbox_inches='tight')\n",
        "\n",
        "# Show the plot\n",
        "plt.show()\n",
        "\n",
        "# Plot the silhouette scores to further validate the optimal number of clusters\n",
        "plt.figure(figsize=(10, 6))\n",
        "plt.plot(range(2, max_clusters + 1), silhouette_scores, marker='o', linestyle='-', color='#d98416', label='Silhouette Score')\n",
        "plt.xlabel('Number of Clusters')\n",
        "plt.ylabel('Silhouette Score')\n",
        "plt.title('Silhouette Scores for Different Numbers of Clusters')\n",
        "plt.xticks(range(2, max_clusters + 1))\n",
        "plt.grid(True)\n",
        "plt.legend()\n",
        "\n",
        "# Save the plot as an image with better layout\n",
        "filename = \"silhouette_cluster_plot.jpg\"\n",
        "plt.savefig(filename, bbox_inches='tight')\n",
        "\n",
        "# Show the plot\n",
        "plt.show()\n",
        "\n",
        "# Stop the timer\n",
        "end_time = time.time()\n",
        "\n",
        "# Calculate the elapsed time\n",
        "elapsed_time = end_time - start_time\n",
        "\n",
        "# Print the elapsed time\n",
        "print(f\"Data transformation execution time: {elapsed_time:.2f} seconds\")\n"
      ]
    },
    {
      "cell_type": "markdown",
      "metadata": {
        "id": "XFvk4sXfVgHR"
      },
      "source": [
        "<span><div style=\"display: https://drive.google.com/uc?export=view&id=1ailmmrZcMxj6yXZv-tkmiGOHgoZ5Iay3inline-block; vertical-align: middle;\">\n",
        "<img src=\"https://drive.google.com/uc?export=view&id=1ailmmrZcMxj6yXZv-tkmiGOHgoZ5Iay3\" width=\"40\"/><font color='#811f00'><br>Through analysis, 32 has been identified as the optimal number of clusters. The Inertia score shows a plateau, indicating minimal improvement in compactness of clusters beyond 32. Additionally, the Silhouette score peaks at 32, indicating the highest average separation between clusters.<br><br>\n",
        "The calculations support each other and the determination that 32 is the optimal number of clusters.</font> </div></span>"
      ]
    },
    {
      "cell_type": "code",
      "execution_count": null,
      "metadata": {
        "id": "bNp70JyA9UcZ"
      },
      "outputs": [],
      "source": [
        "# Start the timer\n",
        "start_time = time.time()\n",
        "\n",
        "# Select relevant features for clustering\n",
        "clustering_features = ['Temperature', 'Fermentation_Time', 'pH_Level', 'Alcohol_Content', 'Bitterness', 'Color']\n",
        "\n",
        "# VectorAssembler to combine feature columns into a single vector column\n",
        "assembler = VectorAssembler(inputCols=clustering_features, outputCol='features')\n",
        "beer_assembled = assembler.transform(beer_encoded)\n",
        "\n",
        "# Normalize the features\n",
        "scaler = StandardScaler(inputCol=\"features\", outputCol=\"scaled_features\", withStd=True, withMean=True)\n",
        "scaler_model = scaler.fit(beer_assembled)\n",
        "beer_scaled = scaler_model.transform(beer_assembled)\n",
        "\n",
        "# Apply KMeans clustering\n",
        "num_clusters = 32  # Specified number of clusters based on previous experiements\n",
        "kmeans = KMeans(k=num_clusters, seed=42, featuresCol='scaled_features', predictionCol='Cluster')\n",
        "kmeans_model = kmeans.fit(beer_scaled)\n",
        "\n",
        "# Transform the data using the fitted KMeans model\n",
        "beer_clustered = kmeans_model.transform(beer_scaled)\n",
        "\n",
        "# Apply PCA\n",
        "pca = PCA(k=2, inputCol=\"scaled_features\", outputCol=\"pcaFeatures\")\n",
        "pca_model = pca.fit(beer_clustered)\n",
        "beer_pca = pca_model.transform(beer_clustered)\n",
        "\n",
        "# Convert to Pandas for visualization\n",
        "beer_pca_pd = beer_pca.select(\"pcaFeatures\", \"Cluster\").toPandas()\n",
        "beer_pca_pd[['pca1', 'pca2']] = pd.DataFrame(beer_pca_pd['pcaFeatures'].tolist(), index=beer_pca_pd.index)\n",
        "\n",
        "# Create a continuous colormap based on your custom color palette\n",
        "custom_cmap = LinearSegmentedColormap.from_list(\"custom_cmap\", custom_colors, N=num_clusters)\n",
        "\n",
        "# Plot the PCA results with clusters\n",
        "plt.figure(figsize=(10, 6))\n",
        "scatter = plt.scatter(beer_pca_pd['pca1'], beer_pca_pd['pca2'], c=beer_pca_pd['Cluster'], cmap=custom_cmap)\n",
        "plt.colorbar(scatter)\n",
        "plt.title('PCA of K-means Clustering of Beer Quality Data')\n",
        "plt.xlabel('PCA Component 1')\n",
        "plt.ylabel('PCA Component 2')\n",
        "\n",
        "# Save the plot as an image with better layout\n",
        "filename = \"PCA_clustering.jpg\"\n",
        "plt.savefig(filename, bbox_inches='tight')\n",
        "\n",
        "# Download the file\n",
        "files.download(\"PCA_clustering.jpg\")\n",
        "\n",
        "# Show the plot\n",
        "plt.show()\n",
        "\n",
        "# Stop the timer\n",
        "end_time = time.time()\n",
        "\n",
        "# Calculate the elapsed time\n",
        "elapsed_time = end_time - start_time\n",
        "\n",
        "# Print the elapsed time\n",
        "print(f\"Data transformation execution time: {elapsed_time:.2f} seconds\")"
      ]
    },
    {
      "cell_type": "markdown",
      "metadata": {
        "id": "8VoGgn4dOEhZ"
      },
      "source": [
        "<span><div style=\"display: https://drive.google.com/uc?export=view&id=1ailmmrZcMxj6yXZv-tkmiGOHgoZ5Iay3inline-block; vertical-align: middle;\">\n",
        "<img src=\"https://drive.google.com/uc?export=view&id=1ailmmrZcMxj6yXZv-tkmiGOHgoZ5Iay3\" width=\"40\"/><font color='#811f00'><br>This plot represents the Principal Component Analysis (PCA) of K-means clustering applied to the entire dataset. The PCA reduces the dimensionality of the data, projecting it onto two principal components, allowing the visualization of clustering results in a 2D space. The color gradient indicates the quality score, with lighter colors representing lower quality scores and darker colors representing higher quality scores.<br><br>\n",
        "X-Axis (PCA Component 1): Represents the first principal component, which captures the maximum variance in the data after dimensionality reduction.<br>\n",
        "Y-Axis (PCA Component 2): Represents the second principal component, capturing the second most significant variance.\n",
        "<br><br>\n",
        "**Several key observations can be made from this visualization:**\n",
        "<br>\n",
        "<u>Cluster Density and Overlap:</u>\n",
        "<br>\n",
        "The plot shows a dense central region with data points scattered around, forming a diamond shape. This suggests that the beer quality data has a central concentration of similar characteristics, with less variation moving towards the edges.<br><br>\n",
        "<u>Quality Distribution:</u>\n",
        "<br>\n",
        "The color gradient suggests that certain regions within the PCA space are associated with higher or lower values of the metric used for coloring (likely cluster assignment). This implies that the K-means clustering has identified distinct groupings or clusters within the data, which are visually separable when reduced to two dimensions.<br><br>\n",
        "<u>PCA Components Interpretation:</u>\n",
        "<br>\n",
        "The PCA components represent combinations of the original features that capture the most variance in the data. The use of PCA here helps to simplify the complex, high-dimensional beer quality data into a two-dimensional plot, making it easier to observe patterns, clusters, or trends.<br><br>\n",
        "Further analysis is needed to interpret the specific characteristics of each cluster and their implications for beer quality.</font> </div></span>"
      ]
    },
    {
      "cell_type": "markdown",
      "metadata": {
        "id": "ZJ4n_lNLIn_F"
      },
      "source": [
        "<span><div style=\"display: https://drive.google.com/uc?export=view&id=1ailmmrZcMxj6yXZv-tkmiGOHgoZ5Iay3inline-block; vertical-align: middle;\">\n",
        "<img src=\"https://drive.google.com/uc?export=view&id=1ailmmrZcMxj6yXZv-tkmiGOHgoZ5Iay3\" width=\"40\"/>\n",
        "<font color='#811f00' size='4'> <i>A note on the method:</font>\n",
        "<font color='#811f00'>  \n",
        "<br>\n",
        "When comparing PCA and t-SNE for dimensionality reduction, PCA is faster but tends to produce more discrete dots in the visualization. In contrast, t-SNE, though slower, often shows more distinct clusters. This difference arises because PCA captures the variance in the data, making it effective for linear separations, while t-SNE focuses on preserving local structures, making it better at identifying clusters.\n",
        "<br><br>\n",
        "K-Means clustering works effectively with numerical variables, as it relies on the distances between data points. Categorical variables do not imply order, which may produce unreliable or misleading information. Future research should explore strategies for integrating numerical and categorical data more effectively in clustering.\n",
        "<br><br>\n",
        "In the context of this flat and uniform dataset, **the initial clustering results are promising** and suggest a path toward deeper insights.\n",
        "<br><br>\n",
        "**K-Means is the better choice for this project because scalability and speed are primary concerns.** In the future, HAC (Hierarchial Agglomerative Clustering) could offer a deeper understanding the hierarchial relationships in the data if computational resources were available.</font> </div></span>"
      ]
    },
    {
      "cell_type": "code",
      "execution_count": null,
      "metadata": {
        "id": "STkau1_b9UfP"
      },
      "outputs": [],
      "source": [
        "# Start the timer\n",
        "start_time = time.time()\n",
        "\n",
        "# Calculate the median quality score for each cluster\n",
        "cluster_medians = beer_clustered.groupBy('Cluster').agg(expr('percentile_approx(Quality_Score, 0.5)').alias('median_Quality_Score'))\n",
        "cluster_order = [row['Cluster'] for row in cluster_medians.orderBy('median_Quality_Score').collect()]\n",
        "\n",
        "# Create a new column 'Cluster_Order' with the ordered cluster categories\n",
        "cluster_mapping_expr = when(col('Cluster') == cluster_order[0], lit(0))\n",
        "for i, cluster in enumerate(cluster_order[1:], 1):\n",
        "    cluster_mapping_expr = cluster_mapping_expr.when(col('Cluster') == cluster, lit(i))\n",
        "\n",
        "beer_clustered = beer_clustered.withColumn('Cluster_Order', cluster_mapping_expr)\n",
        "\n",
        "# Convert the 'Cluster_Order' column to integer type\n",
        "beer_clustered = beer_clustered.withColumn('Cluster_Order', col('Cluster_Order').cast('int'))\n",
        "\n",
        "# Take a (1 million data) sample of the data before converting to Pandas\n",
        "sample_fraction = 0.1  # Adjust this value to control the sample size (e.g., 0.1 for 10%)\n",
        "beer_clustered_sample_pd = beer_clustered.sample(fraction=sample_fraction, seed=42)\n",
        "\n",
        "# Convert the DataFrame to Pandas for plotting\n",
        "beer_clustered_pd = beer_clustered_sample_pd.toPandas()\n",
        "\n",
        "# Ensure the DataFrame is sorted by Cluster_Order\n",
        "beer_clustered_pd = beer_clustered_pd.sort_values(by='Cluster_Order')\n",
        "\n",
        "# Create a continuous colormap based on your custom color palette\n",
        "num_clusters = len(beer_clustered_pd['Cluster_Order'].unique())\n",
        "custom_cmap = LinearSegmentedColormap.from_list(\"custom_cmap\", custom_colors, N=num_clusters)\n",
        "\n",
        "# Plot the box plots using the ordered clusters\n",
        "features_to_plot = ['Quality_Score', 'Temperature', 'Fermentation_Time', 'pH_Level', 'Alcohol_Content', 'Bitterness', 'Color']\n",
        "\n",
        "for feature in features_to_plot:\n",
        "    plt.figure(figsize=(14, 10))\n",
        "    sns.boxplot(x='Cluster_Order', y=feature, data=beer_clustered_pd, hue='Cluster_Order', palette=custom_cmap, legend=False)\n",
        "    plt.title(f'Distribution of {feature} by Cluster Ordered by Quality Score')\n",
        "    plt.xlabel('Cluster')\n",
        "    plt.ylabel(feature)\n",
        "\n",
        "    # Save the plot as an image with better layout\n",
        "    filename = \"cluster_box_plots.jpg\"\n",
        "    plt.savefig(filename, bbox_inches='tight')\n",
        "\n",
        "    # Download the file\n",
        "    files.download(\"cluster_box_plots.jpg\")\n",
        "\n",
        "    # Show the plot\n",
        "    plt.show()\n",
        "\n",
        "# Stop the timer\n",
        "end_time = time.time()\n",
        "\n",
        "# Calculate the elapsed time\n",
        "elapsed_time = end_time - start_time\n",
        "\n",
        "# Print the elapsed time\n",
        "print(f\"Data transformation execution time: {elapsed_time:.2f} seconds\")"
      ]
    },
    {
      "cell_type": "markdown",
      "metadata": {
        "id": "G_XlHvfGP0nb"
      },
      "source": [
        "<span><div style=\"display: https://drive.google.com/uc?export=view&id=1ailmmrZcMxj6yXZv-tkmiGOHgoZ5Iay3inline-block; vertical-align: middle;\">\n",
        "<img src=\"https://drive.google.com/uc?export=view&id=1ailmmrZcMxj6yXZv-tkmiGOHgoZ5Iay3\" width=\"40\"/><font color='#811f00'><br>\n",
        "This box plot orders the clusters by the median beer quality to visually and comparibly order the cluters to potentially separate any clusters that showed either remarkable qualities or completely undesirable qualities.<br><br> The boxes represent the interquartile range (IQR), which contains the middle 50% of the data points. The top and bottom edges of the box indicate the 75th and 25th percentiles, respectively. The vertical lines extending from the boxes (whiskers) represent the range of the data, excluding outliers. They extend to 1.5 times the IQR. The circles outside the whiskers represent outliers—data points that fall outside the expected range (more than 1.5 times the IQR from the quartiles).\n",
        "<br><br>\n",
        "Generally, the feature box plot distributions by cluster ordered by quality score showed a bimodal distribution.  Indicating that some more structure in the data is becoming visable.<br><br>\n",
        "<u>Observations:</u>\n",
        "Quality Score Distribution:\n",
        "Overall, the quality scores are relatively consistent across clusters, with most clusters having median scores between 7.5 and 8.5. This consistency suggests that certain characteristics, like alcohol content and bitterness, might be influencing quality scores more significantly.\n",
        "<br><br>\n",
        "<u>Temperature:</u>\n",
        "The temperature distribution shows considerable variation between clusters. Higher quality clusters tend to have a more consistent temperature range, whereas lower quality clusters show more variability. Some clusters (e.g., 9, 15, 16) showed a higher median temperature, possibly indicating that specific temperature ranges are more conducive to achieving higher quality.\n",
        "<br><br>\n",
        "<u>Fermentation Time:</u>\n",
        "The plot shows that fermentation time is relatively consistent across clusters, with median times mostly falling between 14 and 16 days. This consistency might indicate that fermentation time has a less direct impact on quality compared to other factors like alcohol content and bitterness.\n",
        "<br><br>\n",
        "<u>pH Level:</u>\n",
        "The pH level distributions indicate that higher quality clusters maintain a slightly higher median pH level, potentially contributing to the desired flavor profile.\n",
        "<br><br>\n",
        "<u>Alcohol Content:</u>\n",
        "Higher quality clusters generally have a slightly higher alcohol content, which might be a factor in the overall beer quality.\n",
        "<br><br>\n",
        "<u>Bitterness:</u>\n",
        "The bitterness distribution has considerable variation in some clusters. Higher quality clusters tend to have higher median bitterness levels, avoiding extremes. This suggests that that bitterness may be a key quality determinant.\n",
        "<br><br>\n",
        "<u>Color:</u>\n",
        "Color intensity varies across clusters, with darker colors corresponding to higher quality scores. Clusters with higher quality scores tend to have a narrower range of color distribution, indicating consistency in color is associated with quality.</font> </div></span>"
      ]
    },
    {
      "cell_type": "markdown",
      "metadata": {
        "id": "1xgC3HSQoOOJ"
      },
      "source": [
        "## Summary\n",
        "\n",
        "The clustering results suggest that certain features, such as fermentation time, temperature, pH level, alcohol content, and color, have noticeable patterns when associated with beer quality. These findings highlight areas for further investigation to refine the brewing process and enhance the quality of the final product. By understanding these feature distributions, the brewery can make informed decisions to optimize their recipes and brewing techniques."
      ]
    },
    {
      "cell_type": "markdown",
      "metadata": {
        "id": "vMo08__ugrlp"
      },
      "source": [
        "## Deep Dive; Deriving Chemistry Data"
      ]
    },
    {
      "cell_type": "markdown",
      "metadata": {
        "id": "FkJ43GyUnX55"
      },
      "source": [
        "Arguments can be made to add in the derived data earlier or later. For this project, because it's a derived and not raw data, it will be included only for the ML models. This is because derived data could influence the unsupervised kmeans clustering algorithm by putting clusters together showing relationships that don't really exist.\n",
        "\n",
        "Some ideas for using ChemPy in this brewing analysis:\n",
        "\n",
        "\n",
        "**pH and Mineral Content:**\n",
        "Use ChemPy to model how different mineral compositions in water (calcium, magnesium) affect the pH during mashing and how this influences enzyme activity and starch conversion.\n",
        "\n",
        "**Fermentation Dynamics:**\n",
        "Model fermentation reactions to understand how different yeast strains (temperature and fermentation time) convert sugars to alcohol and CO2, impacting the final quality and flavor profile of the beer.\n",
        "\n",
        "**Ingredient Interactions:**\n",
        "Analyze how different ratios of malts and hops interact chemically during the brewing process and their cumulative impact on beer quality.\n",
        "\n",
        "**Integrating ChemPy with Machine Learning\n",
        "for more advanced analysis: (see phase 3 project for a demo of this technique)**\n",
        "Integrate ChemPy with machine learning tools like scikit-learn to predict quality scores based on chemical composition and brewing conditions\n",
        "\n",
        "**Feature Engineering:**\n",
        "Use ChemPy to calculate chemical properties (e.g., reaction rates, equilibrium constants) and use these as features for machine learning models.\n",
        "\n",
        "Looking at derived pH data, can be helpful as it can provide context and information about the brewing environment that impacts the behavior of reactants in the measured data."
      ]
    },
    {
      "cell_type": "markdown",
      "metadata": {
        "id": "iD-v9hNqX1q9"
      },
      "source": [
        "<span><div style=\"display: https://drive.google.com/uc?export=view&id=1ailmmrZcMxj6yXZv-tkmiGOHgoZ5Iay3inline-block; vertical-align: middle;\">\n",
        "<img src=\"https://drive.google.com/uc?export=view&id=1ailmmrZcMxj6yXZv-tkmiGOHgoZ5Iay3\" width=\"40\"/><font color='#811f00'><br>In this experiment, buffer capacities will be explored. Different malt and hops types have different buffering capacities, affecting the pH differently.\n",
        "<br><br>\n",
        "A note about the calculation, by incorporating malt and hops types into the buffer system calculation, the buffering capacity can be adjusted based on the specific ingredients used. The buffer capacities are essential for the pH calculation. The dictionaries used below are simple and efficient for lookup operations.\n",
        "<br><br>\n",
        "This method improves understanding of the system by providing a more details of how the initial pH and buffering capacities impact the final beer quality.</i></font> </div></span>"
      ]
    },
    {
      "cell_type": "code",
      "execution_count": null,
      "metadata": {
        "id": "Qt2BWEsC9UiO"
      },
      "outputs": [],
      "source": [
        "# Start the timer\n",
        "start_time = time.time()\n",
        "\n",
        "# Display the schema of the DataFrame\n",
        "beer_encoded.printSchema()\n",
        "\n",
        " # Stop the timer\n",
        "end_time = time.time()\n",
        "\n",
        "# Calculate the elapsed time\n",
        "elapsed_time = end_time - start_time\n",
        "\n",
        "# Print the elapsed time\n",
        "print(f\"Data transformation execution time: {elapsed_time:.2f} seconds\")"
      ]
    },
    {
      "cell_type": "markdown",
      "metadata": {
        "id": "Dc4TFzFY41yA"
      },
      "source": [
        "<span><div style=\"display: https://drive.google.com/uc?export=view&id=1ailmmrZcMxj6yXZv-tkmiGOHgoZ5Iay3inline-block; vertical-align: middle;\">\n",
        "<img src=\"https://drive.google.com/uc?export=view&id=1ailmmrZcMxj6yXZv-tkmiGOHgoZ5Iay3\" width=\"40\"/><font color='#811f00'><br>Resources were sufficient to process the entire sample dataset using K-Means clustering. However, due to the resource-intensive nature of the chemistry analysis and machine learning modeling, the data was further subsampled for the subsequent analyses.</font> </div></span>"
      ]
    },
    {
      "cell_type": "code",
      "execution_count": null,
      "metadata": {
        "id": "GP8OOqN_Jbjh"
      },
      "outputs": [],
      "source": [
        "# Start the timer\n",
        "start_time = time.time()\n",
        "\n",
        "# Sample 19% of the rows with a seed for reproducibility (about 50,000 data points)\n",
        "beer_encoded_sampled = beer_encoded.sample(withReplacement=False, fraction= 0.10, seed=42) #fraction=0.19\n",
        "#save_checkpoint(beer_encoded_sampled, 'beer_encoded_sampled_checkpoint.pkl')\n",
        "\n",
        " # Stop the timer\n",
        "end_time = time.time()\n",
        "\n",
        "# Calculate the elapsed time\n",
        "elapsed_time = end_time - start_time\n",
        "\n",
        "# Print the elapsed time\n",
        "print(f\"Data transformation execution time: {elapsed_time:.2f} seconds\")"
      ]
    },
    {
      "cell_type": "code",
      "execution_count": null,
      "metadata": {
        "id": "bjcs_C4_LKXQ"
      },
      "outputs": [],
      "source": [
        "# Start the timer\n",
        "start_time = time.time()\n",
        "\n",
        "beer_encoded_sampled.show()\n",
        "\n",
        "# Stop the timer\n",
        "end_time = time.time()\n",
        "\n",
        "# Calculate the elapsed time\n",
        "elapsed_time = end_time - start_time\n",
        "\n",
        "# Print the elapsed time\n",
        "print(f\"Data transformation execution time: {elapsed_time:.2f} seconds\")"
      ]
    },
    {
      "cell_type": "code",
      "execution_count": null,
      "metadata": {
        "id": "BONIqHKljCW3"
      },
      "outputs": [],
      "source": [
        "# Start the timer\n",
        "start_time = time.time()\n",
        "\n",
        "# Define buffer capacities\n",
        "malt_buffer_capacities = {\n",
        "    'Barley': 0.1,\n",
        "    'Wheat': 0.2,\n",
        "    'Rye': 0.15,\n",
        "    'Oats': 0.05\n",
        "}\n",
        "\n",
        "hops_buffer_capacities = {\n",
        "    'Bittering': 0.2,\n",
        "    'Dual Purpose': 0.1,\n",
        "    'Aroma': 0.05\n",
        "}\n",
        "\n",
        "@jit(nopython=True)\n",
        "def buffer_system_calculation(final_pH, malt_buffer, hops_buffer, malt_ratio, hops_ratio):\n",
        "    \"\"\"\n",
        "    Simulates the buffering system in a brewing process based on the final pH,\n",
        "    malt buffer, hops buffer, malt ratio, and hops ratio.\n",
        "    \"\"\"\n",
        "    # Simplified buffer system calculation\n",
        "    H_initial = 10 ** -final_pH\n",
        "    return -np.log10(H_initial * (malt_buffer * malt_ratio + hops_buffer * hops_ratio))\n",
        "\n",
        "def buffer_system_with_types_spark(final_pH, malt_type, hops_type, malt_ratio, hops_ratio):\n",
        "    \"\"\"\n",
        "    Calculates the initial pH value of a brewing process based on the final pH, malt type, hops type, and their respective ratios.\n",
        "\n",
        "    This function simulates the buffering system in brewing by:\n",
        "    - Retrieving the buffer capacities for the given malt and hops types.\n",
        "    - Using a predefined buffer system calculation function to estimate the initial pH based on these capacities and ratios.\n",
        "    - Handling exceptions to ensure robustness during the Spark UDF execution.\n",
        "\n",
        "    Parameters:\n",
        "    ----------\n",
        "    final_pH : float\n",
        "        The final pH level of the brew.\n",
        "    malt_type : str\n",
        "        The type of malt used in the brew (e.g., 'Barley', 'Wheat').\n",
        "    hops_type : str\n",
        "        The type of hops used in the brew (e.g., 'Bittering', 'Aroma').\n",
        "    malt_ratio : float\n",
        "        The ratio of malt in the brewing process.\n",
        "    hops_ratio : float\n",
        "        The ratio of hops in the brewing process.\n",
        "\n",
        "    Returns:\n",
        "    -------\n",
        "    float\n",
        "        The estimated initial pH value based on the buffer capacities and ratios.\n",
        "        Returns None if an error occurs during the calculation.\n",
        "    \"\"\"\n",
        "    try:\n",
        "        malt_buffer = malt_buffer_capacities.get(malt_type, 0.1)\n",
        "        hops_buffer = hops_buffer_capacities.get(hops_type, 0.1)\n",
        "        initial_pH = buffer_system_calculation(final_pH, malt_buffer, hops_buffer, malt_ratio, hops_ratio)\n",
        "        return float(initial_pH)\n",
        "    except Exception as e:\n",
        "        print(f\"Error in buffer_system_with_types_spark: {e}\")\n",
        "        return None\n",
        "\n",
        "# Define the UDF using the buffer system function\n",
        "buffer_system_udf = udf(buffer_system_with_types_spark, DoubleType())\n",
        "\n",
        "# Apply UDF to DataFrame with inferred malt and hops types\n",
        "beer_encoded_sampled = beer_encoded_sampled.withColumn(\n",
        "    'Derived_Initial_pH',\n",
        "    buffer_system_udf(\n",
        "        col('pH_Level'),\n",
        "        col('Malt_Type'),\n",
        "        col('Hops_Type'),\n",
        "        col('Malt_Ratio'),\n",
        "        col('Hops_Ratio')\n",
        "    )\n",
        ")\n",
        "\n",
        "# Print the first 5 rows of the Derived_Initial_pH column\n",
        "beer_encoded_sampled.select('Derived_Initial_pH').show(5)\n",
        "\n",
        "# Stop the timer\n",
        "end_time = time.time()\n",
        "\n",
        "# Calculate the elapsed time\n",
        "elapsed_time = end_time - start_time\n",
        "\n",
        "# Print the elapsed time\n",
        "print(f\"Data transformation execution time: {elapsed_time:.2f} seconds\")\n",
        "\n"
      ]
    },
    {
      "cell_type": "markdown",
      "source": [
        "<span><div style=\"display: https://drive.google.com/uc?export=view&id=1ailmmrZcMxj6yXZv-tkmiGOHgoZ5Iay3inline-block; vertical-align: middle;\">\n",
        "<img src=\"https://drive.google.com/uc?export=view&id=1ailmmrZcMxj6yXZv-tkmiGOHgoZ5Iay3\" width=\"40\"/><font color='#811f00'><br>\n",
        "This calculation might not fully capture the complexity of the actual buffering system in the brewing process. It is a placeholder or starting point, and the calculation can be adjusted to better reflect the real chemical processes.<br><br> This could involve:\n",
        "<br>\n",
        "1 Adding more detailed buffer equations.<br>\n",
        "2 Considering additional components or reactions in the brewing process.<br>\n",
        "3 Incorporating temperature and pressure effects.<br>\n",
        "4 Using more accurate or empirical data for buffer capacities and ratios.\n",
        "<br><br>\n",
        "Here's an example:\n",
        "<br>\n",
        "@jit(nopython=True)\n",
        "def buffer_system_calculation(final_pH, malt_buffer, hops_buffer, malt_ratio, hops_ratio, additional_buffer, temp_factor):\n",
        "    \"\"\"\n",
        "    Simulates the buffering system in a brewing process based on the final pH,\n",
        "    malt buffer, hops buffer, malt ratio, hops ratio, and other factors.\n",
        "    \"\"\"\n",
        "    # Adjusted buffer system calculation\n",
        "    H_initial = 10 ** -final_pH\n",
        "    combined_buffer = (malt_buffer * malt_ratio + hops_buffer * hops_ratio + additional_buffer)\n",
        "    adjusted_buffer = combined_buffer * temp_factor  # Adjusting for temperature\n",
        "    return -np.log10(H_initial * adjusted_buffer)\n",
        "</font> </div></span>"
      ],
      "metadata": {
        "id": "Ap-MfxajRKIK"
      }
    },
    {
      "cell_type": "code",
      "execution_count": null,
      "metadata": {
        "id": "6A03sadxjCmL"
      },
      "outputs": [],
      "source": [
        "# Start the timer\n",
        "start_time = time.time()\n",
        "\n",
        "# Persist the DataFrame to avoid recomputation\n",
        "beer_encoded_sampled.cache()\n",
        "\n",
        "# Select only the necessary columns for conversion to Pandas\n",
        "selected_columns = beer_encoded_sampled.select('Derived_Initial_pH', 'Quality_Score')\n",
        "\n",
        "# Convert to Pandas DataFrame for visualization (only after cleaning and reducing the size)\n",
        "beer_encoded_pH_pd = selected_columns.toPandas()\n",
        "\n",
        "# Create a custom colormap based on custom color palette\n",
        "custom_cmap = mcolors.ListedColormap(custom_colors)\n",
        "\n",
        "# Create the hexbin plot\n",
        "plt.figure(figsize=(10, 6))\n",
        "hb = plt.hexbin(beer_encoded_pH_pd['Quality_Score'], beer_encoded_pH_pd['Derived_Initial_pH'], gridsize=50, reduce_C_function=np.mean, cmap=custom_cmap)\n",
        "plt.colorbar(hb, label='Mean Derived Initial pH')\n",
        "plt.title('Derived Initial pH vs Quality Score')\n",
        "plt.xlabel('Quality Score')\n",
        "plt.ylabel('Derived Initial pH')\n",
        "\n",
        "# Save the plot as an image with better layout\n",
        "filename = \"derived_initial_pH_hexbin.jpg\"\n",
        "plt.savefig(filename, bbox_inches='tight')\n",
        "\n",
        "# Download the file\n",
        "files.download(\"derived_initial_pH_hexbin.jpg\")\n",
        "\n",
        "# Show the plot\n",
        "plt.show()\n",
        "\n",
        "# Stop the timer\n",
        "end_time = time.time()\n",
        "\n",
        "# Calculate the elapsed time\n",
        "elapsed_time = end_time - start_time\n",
        "\n",
        "# Print the elapsed time\n",
        "print(f\"Data transformation execution time: {elapsed_time:.2f} seconds\")\n"
      ]
    },
    {
      "cell_type": "markdown",
      "source": [
        "<span><div style=\"display: https://drive.google.com/uc?export=view&id=1ailmmrZcMxj6yXZv-tkmiGOHgoZ5Iay3inline-block; vertical-align: middle;\">\n",
        "<img src=\"https://drive.google.com/uc?export=view&id=1ailmmrZcMxj6yXZv-tkmiGOHgoZ5Iay3\" width=\"40\"/><font color='#811f00'><br>This plot is a hexbin plot, visualizing the relationship between \"Derived Initial pH\" and the \"Quality Score.\" The color intensity represents the density or count of data points within each hexagonal bin.\n",
        "<br><br>\n",
        "<u>Key Points:</u><br>\n",
        "<u>X-Axis (Quality Score):</u> Ranges from 6.0 to 10.0, representing the quality score assigned to the products.<br>\n",
        "<u>Y-Axis (Derived Initial pH):</u> Ranges from 5.25 to 7.00, representing the derived initial pH of the products.<br>\n",
        "<u>Color Scale:</u> Indicates the mean Derived Initial pH within each bin. Lighter colors represent lower densities, while darker colors represent higher densities.<br>\n",
        "<br>\n",
        "<u>Meaning:</u><br>\n",
        "<u>Concentration of Data:</u> The plot shows that the majority of the data is concentrated in the pH range of approximately 5.75 to 6.50. This range of pH is the most common across various quality scores.<br>\n",
        "<u>High Density Regions:</u> The most densely populated region (darker areas) is observed around a pH of 6.00 to 6.25, which spans a wide range of quality scores. This indicates that this pH range is particularly common, irrespective of the quality score.<br>\n",
        "<u>Variation with Quality:</u> The Derived Initial pH shows a relatively consistent distribution across the quality scores, with no significant correlation between pH and quality score. The density remains uniform, suggesting that the initial pH does not strongly influence the quality score.<br><br>\n",
        "</font> </div></span>"
      ],
      "metadata": {
        "id": "E2LGV1K2kHxE"
      }
    },
    {
      "cell_type": "code",
      "execution_count": null,
      "metadata": {
        "id": "0tX5NC6zE5A1"
      },
      "outputs": [],
      "source": [
        "# Start the timer\n",
        "start_time = time.time()\n",
        "\n",
        "# Persist the DataFrame to avoid recomputation\n",
        "beer_encoded_sampled.cache()\n",
        "\n",
        "# Select only the necessary columns for conversion to Pandas\n",
        "selected_columns = beer_encoded_sampled.select('Malt_Hops_Ratio', 'Quality_Score')\n",
        "\n",
        "# Convert to Pandas DataFrame for visualization (only after cleaning and reducing the size)\n",
        "beer_encoded_pH_pd = selected_columns.toPandas()\n",
        "\n",
        "# Create a custom colormap based on custom color palette\n",
        "custom_cmap = mcolors.ListedColormap(custom_colors)\n",
        "\n",
        "# Create the hexbin plot\n",
        "plt.figure(figsize=(10, 6))\n",
        "hb = plt.hexbin(beer_encoded_pH_pd['Quality_Score'], beer_encoded_pH_pd['Malt_Hops_Ratio'], gridsize=50, reduce_C_function=np.mean, cmap=custom_cmap)\n",
        "plt.colorbar(hb, label='Mean Malt Hops Ratio')\n",
        "plt.title('Malt Hops Ratio vs Quality Score')\n",
        "plt.xlabel('Quality Score')\n",
        "plt.ylabel('Malt Hops Ratio')\n",
        "\n",
        "# Save the plot as an image with better layout\n",
        "filename = \"Malt_Hops_Ratio_hexbin.jpg\"\n",
        "plt.savefig(filename, bbox_inches='tight')\n",
        "\n",
        "# Download the file\n",
        "files.download(\"Malt_Hops_Ratio_hexbin.jpg\")\n",
        "\n",
        "# Show the plot\n",
        "plt.show()\n",
        "\n",
        "# Stop the timer\n",
        "end_time = time.time()\n",
        "\n",
        "# Calculate the elapsed time\n",
        "elapsed_time = end_time - start_time\n",
        "\n",
        "# Print the elapsed time\n",
        "print(f\"Data transformation execution time: {elapsed_time:.2f} seconds\")"
      ]
    },
    {
      "cell_type": "markdown",
      "metadata": {
        "id": "0LyDp5i3dd6g"
      },
      "source": [
        "<span><div style=\"display: https://drive.google.com/uc?export=view&id=1ailmmrZcMxj6yXZv-tkmiGOHgoZ5Iay3inline-block; vertical-align: middle;\">\n",
        "<img src=\"https://drive.google.com/uc?export=view&id=1ailmmrZcMxj6yXZv-tkmiGOHgoZ5Iay3\" width=\"40\"/><font color='#811f00'><br>\n",
        "This plot is a hexbin plot that visualizes the relationship between the \"Malt Hops Ratio\" and the \"Quality Score\". The hexbin plot uses hexagonal bins to aggregate data points, with the color intensity representing the density or count of data points within each bin.\n",
        "<br><br>\n",
        "<u>Key Points:</u><br>\n",
        "<u>X-Axis (Quality Score):</u> Ranges from 6.0 to 10.0, representing the quality score assigned to the products.<br>\n",
        "<u>Y-Axis (Malt Hops Ratio):</u> Ranges from 0 to 5, representing the ratio of malt to hops in the products.<br>\n",
        "<u>Color Scale:</u> Indicates the mean Malt Hops Ratio within each bin. Lighter colors represent lower densities, while darker colors represent higher densities.<br><br>\n",
        "Meaning:</u><br>\n",
        "<u>Concentration of Data:</u> The plot shows that the majority of the data is concentrated between a Malt Hops Ratio of approximately 1.5 to 2.5. This region corresponds to a wide range of quality scores, suggesting that these ratios are most common across different quality levels.<br>\n",
        "<u>High Density Regions:</u> The most densely populated region is observed around a Malt Hops Ratio of 2, indicating that this ratio is particularly common in the dataset, regardless of the quality score.<br>\n",
        "<u>Variation with Quality:</u> There is not much variation in the Malt Hops Ratio as the quality score changes, implying that the quality score is relatively consistent across different ratios, with no significant trends observed in this plot.<br><br>\n",
        "This visualization suggests that while there is a predominant Malt Hops Ratio around 2, it doesn't strongly correlate with changes in the quality score, as the density remains fairly uniform across the range of quality scores.\n",
        "</font> </div></span>"
      ]
    },
    {
      "cell_type": "code",
      "execution_count": null,
      "metadata": {
        "id": "lyyFRT58xGQC"
      },
      "outputs": [],
      "source": [
        "# Start the timer\n",
        "start_time = time.time()\n",
        "\n",
        "# Calculate the pH difference and add it as a new column\n",
        "beer_encoded_sampled = beer_encoded_sampled.withColumn('pH_Difference', col('Derived_Initial_pH') - col('pH_Level'))\n",
        "\n",
        "# Persist the DataFrame to avoid recomputation\n",
        "beer_encoded_sampled.cache()\n",
        "\n",
        "# Select only the necessary columns for conversion to Pandas\n",
        "selected_columns = beer_encoded_sampled.select('pH_Difference', 'Quality_Score')\n",
        "\n",
        "# Convert to Pandas DataFrame for visualization (only after cleaning and reducing the size)\n",
        "beer_encoded_pH_diff_pd = selected_columns.toPandas()\n",
        "\n",
        "# Create the scatter plot\n",
        "plt.figure(figsize=(10, 6))\n",
        "sns.scatterplot(x='Quality_Score', y='pH_Difference', data=beer_encoded_pH_diff_pd)\n",
        "plt.title('pH_Difference vs Quality Score')\n",
        "plt.xlabel('Quality Score')\n",
        "plt.ylabel('pH_Difference')\n",
        "\n",
        "# Save the plot as an image with better layout\n",
        "filename = \"pH_Difference_scatter.jpg\"\n",
        "plt.savefig(filename, bbox_inches='tight')\n",
        "\n",
        "# Download the file\n",
        "files.download(\"pH_Difference_scatter.jpg\")\n",
        "\n",
        "# Show the plot\n",
        "plt.show()\n",
        "\n",
        "# Stop the timer\n",
        "end_time = time.time()\n",
        "\n",
        "# Calculate the elapsed time\n",
        "elapsed_time = end_time - start_time\n",
        "\n",
        "# Print the elapsed time\n",
        "print(f\"Data transformation execution time: {elapsed_time:.2f} seconds\")\n"
      ]
    },
    {
      "cell_type": "markdown",
      "metadata": {
        "id": "tS-XhFKw4eXm"
      },
      "source": [
        "<span><div style=\"display: https://drive.google.com/uc?export=view&id=1ailmmrZcMxj6yXZv-tkmiGOHgoZ5Iay3inline-block; vertical-align: middle;\">\n",
        "<img src=\"https://drive.google.com/uc?export=view&id=1ailmmrZcMxj6yXZv-tkmiGOHgoZ5Iay3\" width=\"40\"/><font color='#811f00'><br>The scatter plot shows the relationship between the Estimated Initial pH and the Quality Score of beer samples. The points are fairly evenly distributed across the range of Estimated Initial pH values, with no obvious trend or pattern linking pH levels to quality scores. This suggests that the initial pH might not be a significant predictor of beer quality within this dataset, or that other factors could be more influential in determining the quality score. The range of pH values appears to cluster around the neutral pH range (6.0 to 7.5), which is typical for beer, but without a clear correlation to higher or lower quality scores.</font> </div></span>\n"
      ]
    },
    {
      "cell_type": "markdown",
      "metadata": {
        "id": "iU0-vDboogFQ"
      },
      "source": [
        "## Summary\n",
        "\n",
        "The initial water pH does not seem to be a significant factor in the quality rating. Perhaps more exploration around the initial water pH and the final beer pH ratio would lead to some further understanding."
      ]
    },
    {
      "cell_type": "markdown",
      "metadata": {
        "id": "0CVZcp-tVgdl"
      },
      "source": [
        "# Supervised Experiments\n",
        "\n",
        "The following experiments incorporate both numeric and encoded categorical data to ensure comprehensive modeling."
      ]
    },
    {
      "cell_type": "code",
      "execution_count": null,
      "metadata": {
        "id": "0pqBSm8mZpo8"
      },
      "outputs": [],
      "source": [
        "# Start the timer\n",
        "start_time = time.time()\n",
        "\n",
        "if beer_encoded_sampled is None:\n",
        "    # Recreate the checkpoint\n",
        "    beer_encoded_sampled = beer_encoded.sample(withReplacement=False, fraction=0.010, seed=42)\n",
        "\n",
        "# Define the feature columns\n",
        "feature_columns = ['Malt_Ratio', 'Hops_Ratio', 'pH_Level', 'Fermentation_Time', 'Temperature',\n",
        "                   'Alcohol_Content', 'Bitterness', 'Color', 'Beer_Style_Index', 'Malt_Type_Index',\n",
        "                   'Hops_Type_Index', 'Derived_Initial_pH', 'Malt_Hops_Ratio']\n",
        "\n",
        "# Assemble the feature columns into a feature vector\n",
        "assembler = VectorAssembler(inputCols=feature_columns, outputCol=\"features\")\n",
        "beer_encoded_sampled_vectorized = assembler.transform(beer_encoded_sampled)\n",
        "\n",
        "# Select the features and label columns\n",
        "data = beer_encoded_sampled_vectorized.select(\"features\", col(\"Quality_Score\").alias(\"label\"))\n",
        "\n",
        "# Split the data into training and testing sets\n",
        "train_data, test_data = data.randomSplit([0.8, 0.2], seed=42)\n",
        "\n",
        "# Print the count of rows in the training and testing sets\n",
        "print(f\"Training set size: {train_data.count()}\")\n",
        "print(f\"Test set size: {test_data.count()}\")\n",
        "\n",
        "# Stop the timer\n",
        "end_time = time.time()\n",
        "\n",
        "# Calculate the elapsed time\n",
        "elapsed_time = end_time - start_time\n",
        "\n",
        "# Print the elapsed time\n",
        "print(f\"Data transformation execution time: {elapsed_time:.2f} seconds\")"
      ]
    },
    {
      "cell_type": "markdown",
      "metadata": {
        "id": "rh8fC0AvfBWp"
      },
      "source": [
        "<span><div style=\"display: https://drive.google.com/uc?export=view&id=1ailmmrZcMxj6yXZv-tkmiGOHgoZ5Iay3inline-block; vertical-align: middle;\">\n",
        "<img src=\"https://drive.google.com/uc?export=view&id=1ailmmrZcMxj6yXZv-tkmiGOHgoZ5Iay3\" width=\"40\"/><font color='#811f00'><br>A random seed was used to ensure the reproducibility of the experiment. All features were combined into a single vector, transforming a row with 13 columns into a vector with 13 dimensions—essentially a different way of packaging the data, as is typical in Spark processing.</font> </div></span>"
      ]
    },
    {
      "cell_type": "markdown",
      "metadata": {
        "id": "WdFw9uHaV1ie"
      },
      "source": [
        "# Random Forest Experiment\n",
        "\n",
        "Random Forest is a solid choice as a baseline model due to its robustness, ability to handle different data types, feature importance insights, and scalability. It provides a reliable benchmark that can be compared against more complex models like XGBoost, Gradient Boosting Machines, or neural networks."
      ]
    },
    {
      "cell_type": "code",
      "execution_count": null,
      "metadata": {
        "id": "zyZhkeAQa2pv"
      },
      "outputs": [],
      "source": [
        "# Start the timer\n",
        "start_time = time.time()\n",
        "\n",
        "# Define the RandomForestRegressor\n",
        "rf = RandomForestRegressor(featuresCol='features', labelCol='label', seed=42)\n",
        "\n",
        "# Define the parameter grid (reduced size for testing)\n",
        "paramGrid = ParamGridBuilder() \\\n",
        "    .addGrid(rf.numTrees, [50, 100]) \\\n",
        "    .addGrid(rf.maxDepth, [5, 10]) \\\n",
        "    .addGrid(rf.minInstancesPerNode, [1]) \\\n",
        "    .build()\n",
        "\n",
        "# Define the parameter grid (reduced size for testing)\n",
        "#paramGrid = ParamGridBuilder() \\\n",
        " #   .addGrid(rf.numTrees, [50, 500, 1500]) \\\n",
        " #   .addGrid(rf.maxDepth, [5]) \\\n",
        " #   .addGrid(rf.minInstancesPerNode, [1, 2]) \\\n",
        " #   .build()\n",
        "\n",
        "# Define the parameter grid (testing progression to get an r value greater than zero)\n",
        "#paramGrid = ParamGridBuilder() \\\n",
        "   #.addGrid(rf.numTrees, [50, 1000, 10000]) \\ # 1 million data points; how many trees needed would be expected to perform well (less number of data points, same, or more?1,000 then 10,000)\n",
        "   #.addGrid(rf.maxDepth, [5, 30]) \\  # 10, 50, 100, 200\n",
        "   #.addGrid(rf.minInstancesPerNode, [1, 2]) \\  # 1, 2, 10\n",
        "   #.build()\n",
        "\n",
        "# Define the evaluator\n",
        "evaluator = RegressionEvaluator(labelCol='label', predictionCol='prediction', metricName='r2')\n",
        "\n",
        "# Define the CrossValidator\n",
        "crossval = CrossValidator(estimator=rf,\n",
        "                          estimatorParamMaps=paramGrid,\n",
        "                          evaluator=evaluator,\n",
        "                          numFolds=3,\n",
        "                          parallelism=8)  # Reduce parallelism for limited resources\n",
        "\n",
        "# Fit the model\n",
        "cvModel = crossval.fit(train_data)\n",
        "\n",
        "# Get the best model\n",
        "best_rf_model = cvModel.bestModel\n",
        "\n",
        "# Print the best hyperparameters found\n",
        "best_rf_params = best_rf_model.extractParamMap()\n",
        "for param, value in best_rf_params.items():\n",
        "    print(f\"{param.name}: {value}\")\n",
        "\n",
        "# Predict on the test set\n",
        "predictions = best_rf_model.transform(test_data)\n",
        "\n",
        "# Evaluate the best model on the test set\n",
        "r2_score_best = evaluator.evaluate(predictions)\n",
        "print(f\"R^2 score of the best model: {r2_score_best}\")\n",
        "\n",
        "# Feature importances\n",
        "importances = best_rf_model.featureImportances\n",
        "\n",
        "# Convert feature importances to a pandas DataFrame\n",
        "importances_df = pd.DataFrame(importances.toArray(), index=feature_columns, columns=['Importance'])\n",
        "\n",
        "# Plot the feature importances\n",
        "plt.figure(figsize=(14, 8))\n",
        "importances_df.sort_values(by='Importance', ascending=False).plot(kind='bar', color='#b74d00')\n",
        "plt.title('Feature Importances from Random Forest')\n",
        "plt.ylabel('Importance Score')\n",
        "\n",
        "# Save the plot as an image with better layout\n",
        "filename = \"RF_importance_plot.jpg\"\n",
        "plt.savefig(filename, bbox_inches='tight')\n",
        "\n",
        "# Download the file\n",
        "files.download(\"RF_importance_plot.jpg\")\n",
        "\n",
        "# Show the plot\n",
        "plt.show()\n",
        "\n",
        "# Stop the timer\n",
        "end_time = time.time()\n",
        "\n",
        "# Calculate the elapsed time\n",
        "elapsed_time = end_time - start_time\n",
        "\n",
        "# Print the elapsed time\n",
        "print(f\"Data transformation execution time: {elapsed_time:.2f} seconds\")\n"
      ]
    },
    {
      "cell_type": "markdown",
      "metadata": {
        "id": "WUke_5DHflT1"
      },
      "source": [
        "<span><div style=\"display: https://drive.google.com/uc?export=view&id=1ailmmrZcMxj6yXZv-tkmiGOHgoZ5Iay3inline-block; vertical-align: middle;\">\n",
        "<img src=\"https://drive.google.com/uc?export=view&id=1ailmmrZcMxj6yXZv-tkmiGOHgoZ5Iay3\" width=\"40\"/><font color='#811f00'><br>\n",
        "Summary of Random Forest Experiment:<br>\n",
        "The Random Forest feature importance plot shows that Beer_Style, Alcohol_Content, and Temperature are the top three most important features influencing the model’s predictions. These features have the highest impact on the output, indicating that they are crucial for predicting beer quality.<br><br>\n",
        "Model Parameters:\n",
        "<br>\n",
        "-R² Score: 1.73e-05, indicating very low predictive power, suggesting the model needs improvement.<br>\n",
        "-Time to Complete Run: 13 minutes, showing moderate computational demand.<br>\n",
        "-Tree Number: 50, should be increased for better model performance.<br>\n",
        "-Depth: 5, a manageable depth; future focus can remain here for balance between complexity and performance.<br>\n",
        "-Nodes: 1, indicating a very simple model, potentially limiting its predictive ability.\n",
        "\n",
        "</font> </div></span>\n"
      ]
    },
    {
      "cell_type": "markdown",
      "metadata": {
        "id": "LPSoPKr2V71N"
      },
      "source": [
        "# Gradient Boosted Tree Experiment\n",
        "\n",
        "XGBoost is a strong choice for advanced analysis due to its ability to model complex relationships, prevent overfitting, efficiently handle large and complex datasets, and provide detailed insights into feature importance. It builds on the strengths of simpler models like Random Forest, offering higher predictive power and greater flexibility, making it ideal for tackling the intricacies of the brewing chemistry process."
      ]
    },
    {
      "cell_type": "code",
      "execution_count": null,
      "metadata": {
        "id": "KLoZXTtRQZcc"
      },
      "outputs": [],
      "source": [
        "# Start the timer\n",
        "start_time = time.time()\n",
        "\n",
        "# Function to convert Spark DataFrame to DMatrix\n",
        "\"\"\"\n",
        "Convert a Spark DataFrame to XGBoost's DMatrix format.\n",
        "\n",
        "This function takes a Spark DataFrame and a label column name, converts the DataFrame to a Pandas DataFrame,\n",
        "separates the features and the label, and then creates a DMatrix, which is the input data format for XGBoost.\n",
        "\n",
        "Parameters:\n",
        "df (DataFrame): The Spark DataFrame to be converted.\n",
        "label_col (str): The name of the column to be used as the label.\n",
        "\n",
        "Returns:\n",
        "tuple: A tuple containing:\n",
        "    - dmatrix (DMatrix): The DMatrix for XGBoost.\n",
        "    - X (DataFrame): The Pandas DataFrame containing the features.\n",
        "    - y (Series): The Pandas Series containing the label.\n",
        "\n",
        "Example:\n",
        ">>> dmatrix, X, y = spark_to_dmatrix(spark_df, 'Quality_Score')\n",
        "\"\"\"\n",
        "def spark_to_dmatrix(df, label_col):\n",
        "    pandas_df = df.toPandas()\n",
        "    X = np.array(pandas_df['features'].tolist())\n",
        "    y = pandas_df[label_col]\n",
        "    return xgb.DMatrix(data=X, label=y), pd.DataFrame(X, columns=feature_columns), y\n",
        "\n",
        "# Convert to DMatrix\n",
        "dtrain, X_train, y_train = spark_to_dmatrix(train_data, 'label')\n",
        "dtest, X_test, y_test = spark_to_dmatrix(test_data, 'label')\n",
        "\n",
        "# Define parameter grid (mid)\n",
        "param_grid = {\n",
        "    'max_depth': [3, 4, 5],\n",
        "    'eta': [0.01, 0.05, 0.1],\n",
        "    'n_estimators': [100, 200],  # Analogous to .addGrid(gbr.maxIter, [100, 200]), number of boosting rounds\n",
        "    'objective': ['reg:squarederror'],\n",
        "}\n",
        "# Define the parameter grid (baseline)\n",
        "#paramGrid = ParamGridBuilder() \\\n",
        "    #.addGrid(gbr.maxIter, [100, 200]) \\\n",
        "    #.addGrid(gbr.maxDepth, [3, 4]) \\\n",
        "    #.addGrid(gbr.stepSize, [0.01, 0.05]) \\\n",
        "    #.build()\n",
        "\n",
        "# Define the parameter grid (advanced)\n",
        "#paramGrid = ParamGridBuilder() \\\n",
        "#    .addGrid(gbr.maxIter, [100, 200, 300, 400]) \\\n",
        "#    .addGrid(gbr.maxDepth, [3, 4, 5]) \\\n",
        "#    .addGrid(gbr.stepSize, [0.01, 0.05, 0.1]) \\\n",
        "#    .build()\n",
        "\n",
        "# Use scikit-learn's GridSearchCV for hyperparameter tuning\n",
        "xgb_reg = xgb.XGBRegressor()\n",
        "grid_search = GridSearchCV(estimator=xgb_reg, param_grid=param_grid, cv=3, scoring='r2', verbose=1, n_jobs=-1)\n",
        "grid_search.fit(X_train, y_train)\n",
        "\n",
        "# Get the best model\n",
        "best_params = grid_search.best_params_\n",
        "print(f\"Best parameters: {best_params}\")\n",
        "\n",
        "# Train the best model\n",
        "best_model = grid_search.best_estimator_\n",
        "\n",
        "# Predict on the test set\n",
        "predictions = best_model.predict(X_test)\n",
        "\n",
        "# Evaluate the best model on the test set\n",
        "r2 = r2_score(y_test, predictions)\n",
        "print(f\"R^2 score of the best model: {r2}\")\n",
        "\n",
        "# Feature importances\n",
        "importances = best_model.feature_importances_\n",
        "\n",
        "# Convert feature importances to a pandas DataFrame\n",
        "importances_df = pd.DataFrame(importances, index=feature_columns, columns=['Importance'])\n",
        "\n",
        "# Plot the feature importances\n",
        "plt.figure(figsize=(14, 8))\n",
        "importances_df.sort_values(by='Importance', ascending=False).plot(kind='bar', color='#b74d00')\n",
        "plt.title('Feature Importances from XGBoost Regressor')\n",
        "plt.ylabel('Importance Score')\n",
        "\n",
        "# Save the plot as an image with better layout\n",
        "filename = \"XGB_importance_plot.jpg\"\n",
        "plt.savefig(filename, bbox_inches='tight')\n",
        "\n",
        "# Download the file\n",
        "files.download(filename)\n",
        "\n",
        "# Show the plot\n",
        "plt.show()\n",
        "\n",
        "# Stop the timer\n",
        "end_time = time.time()\n",
        "\n",
        "# Calculate the elapsed time\n",
        "elapsed_time = end_time - start_time\n",
        "\n",
        "# Print the elapsed time\n",
        "print(f\"Data transformation execution time: {elapsed_time:.2f} seconds\")\n"
      ]
    },
    {
      "cell_type": "markdown",
      "metadata": {
        "id": "OVXa-zaGgaXN"
      },
      "source": [
        "<span><div style=\"display: https://drive.google.com/uc?export=view&id=1ailmmrZcMxj6yXZv-tkmiGOHgoZ5Iay3inline-block; vertical-align: middle;\">\n",
        "<img src=\"https://drive.google.com/uc?export=view&id=1ailmmrZcMxj6yXZv-tkmiGOHgoZ5Iay3\" width=\"40\"/><font color='#811f00'><br>\n",
        "Summary of Gradient Boosted Experiment:<br>\n",
        "The XGBoost feature importance plot shows that Temperature, Derived_Initial_pH, and pH_Level are the top three most important features in the model. These features have the highest impact on the model’s ability to predict beer quality, indicating that they are critical factors in the brewing process.\n",
        "<br><br>\n",
        "Model Parameters:\n",
        "<br>\n",
        "-R² Score: 6.48e-06, indicating very low predictive power, suggesting the model requires further tuning.<br>\n",
        "-Time to Complete Run: 2 minutes, showing that the model is computationally efficient.<br>\n",
        "-Estimators: 100, should be increased for better performance.<br>\n",
        "-Depth: 3, a shallow depth that limits complexity and might be suitable for simple relationships.<br>\n",
        "-eta: 0.01, indicating a conservative learning rate, which helps in avoiding overfitting but may require more iterations to converge.<br>\n",
        " </font> </div></span>\n"
      ]
    },
    {
      "cell_type": "code",
      "execution_count": null,
      "metadata": {
        "id": "aleUSbRltjxA"
      },
      "outputs": [],
      "source": [
        "# Start the timer\n",
        "start_time = time.time()\n",
        "\n",
        " # Stop Spark session\n",
        "spark.stop()\n",
        "\n",
        " # Stop the timer\n",
        "end_time = time.time()\n",
        "\n",
        "# Calculate the elapsed time\n",
        "elapsed_time = end_time - start_time\n",
        "\n",
        "# Print the elapsed time\n",
        "print(f\"Data transformation execution time: {elapsed_time:.2f} seconds\")"
      ]
    },
    {
      "cell_type": "markdown",
      "metadata": {
        "id": "_3tdIXM9WOYy"
      },
      "source": [
        "# Conclusion\n",
        "\n",
        "This project began with a comprehensive 10 million data points, allowing a thorough understanding of the dataset, which was then downsized for detailed analysis. This downsizing emphasizes the importance of ensuring scalability in future analyses.\n",
        "\n",
        "Violin plots highlighted the consistent median fermentation times across beer styles, typically around 15 days, with some variation in distribution.\n",
        "\n",
        "PCA reduction analysis along with K-means clustering revealed distinct clusters in beer quality, with significant variables like alcohol content, bitterness, and temperature influencing quality scores. The consistency in quality scores across clusters suggests shared influencing factors, while the detection of outliers points to specific conditions that may require further investigation. Bar plots of the K-means clusters showed possible correlations between specific features, suggesting underlying patterns that merit further exploration.\n",
        "\n",
        "The hexbin plots demonstrated that while certain ratios, such as Malt-to-Hops, are predominant, they do not strongly correlate with quality scores. Both Random Forest and XGBoost models identified key features like Beer Style, Temperature, and pH levels as critical to predicting beer quality. However, the models showed low predictive power, suggesting room for further refinement and tuning.\n",
        "\n",
        "Overall, the study provides a solid foundation for understanding the factors that influence beer quality, with clear directions for improving model performance and feature analysis in future work."
      ]
    },
    {
      "cell_type": "markdown",
      "metadata": {
        "id": "q5_CowvoWRAf"
      },
      "source": [
        "# Summary\n",
        "\n",
        "The objective was to determine how to achieve a top beer quality rating by leveraging different modeling techniques. The analysis involved three strategies: K-Means Clustering, Random Forest Machine Learning, and Gradient Boosted Machine Learning.\n",
        "\n",
        "#### **Key Findings:**\n",
        "<ol>\n",
        "  <li><strong>\n",
        "K-Means Clustering</strong></ol>\n",
        "\n",
        "Evaluation Metrics:\n",
        "<ul>\n",
        "<li>Inertia Score: 19196114.00\n",
        "<li>Silhouette Score: 0.2700\n",
        "</ul>\n",
        "\n",
        "Observation (Inertia Score): High inertia score indicates that the clusters are not well-separated, suggesting that the data points within clusters are relatively far from their centroids.\n",
        "\n",
        "Observation: (Silhouette) A silhouette score of 0.2700 suggests that the clustering may not be well-defined, indicating some overlap between clusters and potential room for improvement in feature selection or clustering parameters.\n",
        "\n",
        "<ol start =\"2\">\n",
        "<li><strong>\n",
        "Random Forest</strong>\n",
        "</ol>\n",
        "\n",
        "Evaluation Metrics:\n",
        "<ul>\n",
        "<li>R^2 Score: 1.7314027253467756e-05\n",
        "</ul>\n",
        "\n",
        "Observation: The very low R² score suggests poor predictive power, indicating that the model is not capturing the variance in the data well. The feature importance analysis highlights critical factors, but the overall model performance needs further tuning.\n",
        "\n",
        "<ol start =\"3\">\n",
        "<li><strong>\n",
        "Gradient Boosted</strong>\n",
        "</ol>\n",
        "\n",
        "Evaluation Metrics:\n",
        "<ul>\n",
        "<li>R^2 Score: 6.48369635813939e-06\n",
        "</ul>\n",
        "\n",
        "Observation: Similar to Random Forest, the low R² score indicates that the model is not effectively predicting beer quality. The critical features identified provide valuable insights, but further model refinement and feature engineering are necessary.\n",
        "\n",
        "<u>Additional Plots:</u><br>\n",
        "<ol start =\"4\">\n",
        "<li><strong>\n",
        "Hexbin Plots</strong>\n",
        "</ol>\n",
        "\n",
        "Observation: The Malt-to-Hops ratio shows little correlation with quality scores, suggesting that other factors may play a more significant role in determining quality. This warrants further investigation into other feature combinations.\n",
        "\n",
        "<ol start =\"5\">\n",
        "<li><strong>\n",
        "Box and Violin Plots</strong>\n",
        "</ol>\n",
        "\n",
        "Observation: Consistent median fermentation times across beer styles suggest standardization in the brewing process, while the presence of outliers indicates specific conditions or variations that may impact quality. Exploring these outliers could reveal insights into optimizing the brewing process.\n",
        "\n",
        "\n",
        "#### **Recommendations**\n",
        "<ul>\n",
        "<li><strong>Refine Malt-to-Hops Ratios</strong>\n",
        "<br>Justification: Hexbin plots reveal how different malt-to-hops ratios correlate with quality scores, enabling optimization of these ratios for enhanced beer quality.\n",
        "\n",
        "<li><strong>Validate Machine Learning Models</strong>\n",
        "<br>Rationale: The feature importance rankings from Random Forest and XGBoost confirm the models’ effectiveness in predicting beer quality, affirming the validity of the machine learning approach.\n",
        "\n",
        "<li><strong>Leverage Clustering for Beer Style Differentiation</strong><br>\n",
        "Reasoning: PCA clustering analysis provides a clear visualization of how beer styles group based on quality, aiding in better targeting and differentiation of products.\n",
        "\n",
        "<li><strong>Analyze Malt and Hops Types Combinations</strong>\n",
        "<br>Action: Conduct granular analysis of different malt and hops combinations to determine the optimal pairings for producing high-quality beer.<br><br>\n",
        "By following these recommendations, the project can enhance beer quality prediction and optimization processes."
      ]
    },
    {
      "cell_type": "markdown",
      "metadata": {
        "id": "Gg8RFKlRWUmV"
      },
      "source": [
        "# Experimental Limitations\n",
        "\n",
        "1. <u>Computational Bottlenecks:</u> Despite the completeness of the dataset, the sheer size of 10 million data points likely caused significant computational bottlenecks, limiting the depth and breadth of this analysis.\n",
        "2. <u>Underutilization of Data:</u> Due to resource constraints, not all data could be effectively utilized, potentially leading to incomplete insights.\n",
        "3. <u>Sampling Bias:</u> Only a subset of data was analyzed due to resource limits, this introduced sampling bias, affecting the representativeness of these results.\n",
        "4. <u>Reduced Feature Engineering:</u> Limited computational resources constrained the ability to explore and engineer additional features that could improve model performance.\n",
        "\n",
        "These limitations emphasize the challenges posed by the size of this dataset and resource constraints, which impacted the analysis's overall effectiveness."
      ]
    },
    {
      "cell_type": "markdown",
      "metadata": {
        "id": "KMpu50CIWYY5"
      },
      "source": [
        "# Next Steps\n",
        "\n",
        "These steps aim to address the core issues of resource constraints and dataset size, helping to continue this analysis more efficiently and effectively in the future.\n",
        "\n",
        "1. <u>Optimize Resource Allocation: </u>Consider using distributed computing resources, such as cloud-based solutions (e.g., AWS, Google Cloud) or workign with collaborators to manage and analyze large datasets more effectively.\n",
        "2. <u>Leverage Spark:</u> Continue optimizing Apache Spark for in-memory processing and distributed computation, reducing the need to convert data to Pandas.\n",
        "3. <u>Feature Engineering:</u> Focus on generating a diverse set of features within Spark, to fully leverage the dataset and improve model accuracy without needing to switch to Pandas.\n",
        "4. <u>Plan for Scalability:</u> Ensure that any solutions or improvements are scalable, to accommodate future datasets or analyses that may be even larger."
      ]
    },
    {
      "cell_type": "markdown",
      "metadata": {
        "id": "LoxjHiBpEVAD"
      },
      "source": [
        "# References:\n",
        "\n",
        "1. https://brookstonbeerbulletin.com/thinking-about-beer-color/\n",
        "2. https://homebrewing.org/pages/srm-beer-color-scale\n",
        "3. https://www.kaggle.com/datasets/ankurnapa/brewery-operations-and-market-analysis-dataset/data\n",
        "4. https://www.kaggle.com/code/diegoamd/brewery-dataset-eda-regression-and-clustering\n",
        "5. https://blogs.cornell.edu/brewing/resources/\n",
        "6. https://www.craftmasterstainless.com/blog/2023/11/21/a-guide-to-the-complex-chemistry-behind-beer-brewing\n",
        "7. https://beaconhillsbrewhouse.wordpress.com/2011/09/18/water-chemistrys-influence-on-my-oktoberfest-beer/\n",
        "8. https://spikebrewing.com/blogs/learn/primary-ingredients-for-brewing-beer\n",
        "9. https://byo.com/article/understanding-residual-alkalinity-ph/\n",
        "10. https://www.google.com/search?q=types+of+beer+yeast&sca_esv=f07dd38fdcfe8355&rlz=1C5CHFA_enUS504US504&ei=h0VwZt2lLuGeptQPxpuFiAE&ved=0ahUKEwidhcuH6uKGAxVhj4kEHcZNAREQ4dUDCBA&uact=5&oq=types+of+beer+yeast&gs_lp=Egxnd3Mtd2l6LXNlcnAaAhgDIhN0eXBlcyBvZiBiZWVyIHllYXN0MgsQABiABBiRAhiKBTIGEAAYFhgeMgYQABgWGB4yCRAAGBYYiwMYHjIJEAAYFhiLAxgeMgYQABgWGB4yBhAAGBYYHjILEAAYFhiLAxgeGA8yCRAAGBYYiwMYHjIJEAAYFhiLAxgeSOoVUJgEWLMTcAF4AZABAJgBjQGgAZsHqgEDNC41uAEDyAEA-AEBmAIKoAK9B8ICChAAGLADGNYEGEfCAgoQABiABBhDGIoFwgIOEAAYgAQYhgMYigUYiwPCAgsQABiABBiiBBiLA8ICBRAAGIAEwgIIEAAYFhgeGA_CAgsQABgWGAoYiwMYHsICCxAAGIAEGIYDGIoFwgIIEAAYgAQYogSYAwCIBgGQBgiSBwM1LjWgB5E8&sclient=gws-wiz-serp\n",
        "11. https://www.micetgroup.com/the-business-competition-strategy-of-craft-brewery/\n",
        "12. https://www.brewersassociation.org/directories/breweries/?location=United%20States&type=Regional\n",
        "13. https://www.brewersassociation.org/programs/beer-food-program/\n",
        "14. https://beersmith.com/blog/2016/02/11/the-sulfate-to-chloride-ratio-and-beer-bitterness/\n",
        "15. https://www.nature.com/articles/s41467-024-46346-0\n",
        "16. https://www.nature.com/scitable/topicpage/yeast-fermentation-and-the-making-of-beer-14372813/\n",
        "17. https://medium.com/@vishakha1203/easiest-way-to-upload-large-datasets-to-google-colab-1f89231844dc\n",
        "18. https://matplotlib.org/stable/api/_as_gen/matplotlib.pyplot.hexbin.html\n",
        "19. https://matplotlib.org/cheatsheets/_images/cheatsheets-1.png\n",
        "20. https://www.geeksforgeeks.org/how-to-create-a-table-with-matplotlib/\n",
        "\n",
        "\n",
        "\n"
      ]
    }
  ],
  "metadata": {
    "colab": {
      "machine_shape": "hm",
      "provenance": []
    },
    "kernelspec": {
      "display_name": "Python 3",
      "name": "python3"
    },
    "language_info": {
      "name": "python"
    }
  },
  "nbformat": 4,
  "nbformat_minor": 0
}